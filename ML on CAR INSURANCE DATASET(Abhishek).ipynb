{
 "cells": [
  {
   "cell_type": "code",
   "execution_count": 1090,
   "id": "22788251",
   "metadata": {},
   "outputs": [],
   "source": [
    "import numpy as np\n",
    "import pandas as pd\n",
    "import matplotlib.pyplot as plt\n",
    "import seaborn as sns\n",
    "import scipy.stats as stat\n",
    "import warnings\n",
    "warnings.filterwarnings('ignore')"
   ]
  },
  {
   "cell_type": "markdown",
   "id": "dca90167",
   "metadata": {},
   "source": [
    "## Reading and Analysing the Data"
   ]
  },
  {
   "cell_type": "code",
   "execution_count": 1091,
   "id": "c3777590",
   "metadata": {},
   "outputs": [],
   "source": [
    "data_train=pd.read_csv('C:/Users/Abhishek/Downloads/carInsurance_train.csv')"
   ]
  },
  {
   "cell_type": "code",
   "execution_count": 1092,
   "id": "a9fa0def",
   "metadata": {},
   "outputs": [],
   "source": [
    "data_test=pd.read_csv('C:/Users/Abhishek/Downloads/carInsurance_test.csv')"
   ]
  },
  {
   "cell_type": "code",
   "execution_count": 1093,
   "id": "408606fd",
   "metadata": {},
   "outputs": [
    {
     "data": {
      "text/html": [
       "<div>\n",
       "<style scoped>\n",
       "    .dataframe tbody tr th:only-of-type {\n",
       "        vertical-align: middle;\n",
       "    }\n",
       "\n",
       "    .dataframe tbody tr th {\n",
       "        vertical-align: top;\n",
       "    }\n",
       "\n",
       "    .dataframe thead th {\n",
       "        text-align: right;\n",
       "    }\n",
       "</style>\n",
       "<table border=\"1\" class=\"dataframe\">\n",
       "  <thead>\n",
       "    <tr style=\"text-align: right;\">\n",
       "      <th></th>\n",
       "      <th>Id</th>\n",
       "      <th>Age</th>\n",
       "      <th>Job</th>\n",
       "      <th>Marital</th>\n",
       "      <th>Education</th>\n",
       "      <th>Default</th>\n",
       "      <th>Balance</th>\n",
       "      <th>HHInsurance</th>\n",
       "      <th>CarLoan</th>\n",
       "      <th>Communication</th>\n",
       "      <th>LastContactDay</th>\n",
       "      <th>LastContactMonth</th>\n",
       "      <th>NoOfContacts</th>\n",
       "      <th>DaysPassed</th>\n",
       "      <th>PrevAttempts</th>\n",
       "      <th>Outcome</th>\n",
       "      <th>CallStart</th>\n",
       "      <th>CallEnd</th>\n",
       "      <th>CarInsurance</th>\n",
       "    </tr>\n",
       "  </thead>\n",
       "  <tbody>\n",
       "    <tr>\n",
       "      <th>0</th>\n",
       "      <td>1</td>\n",
       "      <td>32</td>\n",
       "      <td>management</td>\n",
       "      <td>single</td>\n",
       "      <td>tertiary</td>\n",
       "      <td>0</td>\n",
       "      <td>1218</td>\n",
       "      <td>1</td>\n",
       "      <td>0</td>\n",
       "      <td>telephone</td>\n",
       "      <td>28</td>\n",
       "      <td>jan</td>\n",
       "      <td>2</td>\n",
       "      <td>-1</td>\n",
       "      <td>0</td>\n",
       "      <td>NaN</td>\n",
       "      <td>13:45:20</td>\n",
       "      <td>13:46:30</td>\n",
       "      <td>0</td>\n",
       "    </tr>\n",
       "    <tr>\n",
       "      <th>1</th>\n",
       "      <td>2</td>\n",
       "      <td>32</td>\n",
       "      <td>blue-collar</td>\n",
       "      <td>married</td>\n",
       "      <td>primary</td>\n",
       "      <td>0</td>\n",
       "      <td>1156</td>\n",
       "      <td>1</td>\n",
       "      <td>0</td>\n",
       "      <td>NaN</td>\n",
       "      <td>26</td>\n",
       "      <td>may</td>\n",
       "      <td>5</td>\n",
       "      <td>-1</td>\n",
       "      <td>0</td>\n",
       "      <td>NaN</td>\n",
       "      <td>14:49:03</td>\n",
       "      <td>14:52:08</td>\n",
       "      <td>0</td>\n",
       "    </tr>\n",
       "    <tr>\n",
       "      <th>2</th>\n",
       "      <td>3</td>\n",
       "      <td>29</td>\n",
       "      <td>management</td>\n",
       "      <td>single</td>\n",
       "      <td>tertiary</td>\n",
       "      <td>0</td>\n",
       "      <td>637</td>\n",
       "      <td>1</td>\n",
       "      <td>0</td>\n",
       "      <td>cellular</td>\n",
       "      <td>3</td>\n",
       "      <td>jun</td>\n",
       "      <td>1</td>\n",
       "      <td>119</td>\n",
       "      <td>1</td>\n",
       "      <td>failure</td>\n",
       "      <td>16:30:24</td>\n",
       "      <td>16:36:04</td>\n",
       "      <td>1</td>\n",
       "    </tr>\n",
       "    <tr>\n",
       "      <th>3</th>\n",
       "      <td>4</td>\n",
       "      <td>25</td>\n",
       "      <td>student</td>\n",
       "      <td>single</td>\n",
       "      <td>primary</td>\n",
       "      <td>0</td>\n",
       "      <td>373</td>\n",
       "      <td>1</td>\n",
       "      <td>0</td>\n",
       "      <td>cellular</td>\n",
       "      <td>11</td>\n",
       "      <td>may</td>\n",
       "      <td>2</td>\n",
       "      <td>-1</td>\n",
       "      <td>0</td>\n",
       "      <td>NaN</td>\n",
       "      <td>12:06:43</td>\n",
       "      <td>12:20:22</td>\n",
       "      <td>1</td>\n",
       "    </tr>\n",
       "    <tr>\n",
       "      <th>4</th>\n",
       "      <td>5</td>\n",
       "      <td>30</td>\n",
       "      <td>management</td>\n",
       "      <td>married</td>\n",
       "      <td>tertiary</td>\n",
       "      <td>0</td>\n",
       "      <td>2694</td>\n",
       "      <td>0</td>\n",
       "      <td>0</td>\n",
       "      <td>cellular</td>\n",
       "      <td>3</td>\n",
       "      <td>jun</td>\n",
       "      <td>1</td>\n",
       "      <td>-1</td>\n",
       "      <td>0</td>\n",
       "      <td>NaN</td>\n",
       "      <td>14:35:44</td>\n",
       "      <td>14:38:56</td>\n",
       "      <td>0</td>\n",
       "    </tr>\n",
       "  </tbody>\n",
       "</table>\n",
       "</div>"
      ],
      "text/plain": [
       "   Id  Age          Job  Marital Education  Default  Balance  HHInsurance  \\\n",
       "0   1   32   management   single  tertiary        0     1218            1   \n",
       "1   2   32  blue-collar  married   primary        0     1156            1   \n",
       "2   3   29   management   single  tertiary        0      637            1   \n",
       "3   4   25      student   single   primary        0      373            1   \n",
       "4   5   30   management  married  tertiary        0     2694            0   \n",
       "\n",
       "   CarLoan Communication  LastContactDay LastContactMonth  NoOfContacts  \\\n",
       "0        0     telephone              28              jan             2   \n",
       "1        0           NaN              26              may             5   \n",
       "2        0      cellular               3              jun             1   \n",
       "3        0      cellular              11              may             2   \n",
       "4        0      cellular               3              jun             1   \n",
       "\n",
       "   DaysPassed  PrevAttempts  Outcome CallStart   CallEnd  CarInsurance  \n",
       "0          -1             0      NaN  13:45:20  13:46:30             0  \n",
       "1          -1             0      NaN  14:49:03  14:52:08             0  \n",
       "2         119             1  failure  16:30:24  16:36:04             1  \n",
       "3          -1             0      NaN  12:06:43  12:20:22             1  \n",
       "4          -1             0      NaN  14:35:44  14:38:56             0  "
      ]
     },
     "execution_count": 1093,
     "metadata": {},
     "output_type": "execute_result"
    }
   ],
   "source": [
    "data_train.head()"
   ]
  },
  {
   "cell_type": "code",
   "execution_count": 1094,
   "id": "d030c8e9",
   "metadata": {},
   "outputs": [
    {
     "data": {
      "text/plain": [
       "(4000, 19)"
      ]
     },
     "execution_count": 1094,
     "metadata": {},
     "output_type": "execute_result"
    }
   ],
   "source": [
    "data_train.shape"
   ]
  },
  {
   "cell_type": "code",
   "execution_count": 1095,
   "id": "ba439c37",
   "metadata": {},
   "outputs": [
    {
     "data": {
      "text/html": [
       "<div>\n",
       "<style scoped>\n",
       "    .dataframe tbody tr th:only-of-type {\n",
       "        vertical-align: middle;\n",
       "    }\n",
       "\n",
       "    .dataframe tbody tr th {\n",
       "        vertical-align: top;\n",
       "    }\n",
       "\n",
       "    .dataframe thead th {\n",
       "        text-align: right;\n",
       "    }\n",
       "</style>\n",
       "<table border=\"1\" class=\"dataframe\">\n",
       "  <thead>\n",
       "    <tr style=\"text-align: right;\">\n",
       "      <th></th>\n",
       "      <th>Id</th>\n",
       "      <th>Age</th>\n",
       "      <th>Job</th>\n",
       "      <th>Marital</th>\n",
       "      <th>Education</th>\n",
       "      <th>Default</th>\n",
       "      <th>Balance</th>\n",
       "      <th>HHInsurance</th>\n",
       "      <th>CarLoan</th>\n",
       "      <th>Communication</th>\n",
       "      <th>LastContactDay</th>\n",
       "      <th>LastContactMonth</th>\n",
       "      <th>NoOfContacts</th>\n",
       "      <th>DaysPassed</th>\n",
       "      <th>PrevAttempts</th>\n",
       "      <th>Outcome</th>\n",
       "      <th>CallStart</th>\n",
       "      <th>CallEnd</th>\n",
       "      <th>CarInsurance</th>\n",
       "    </tr>\n",
       "  </thead>\n",
       "  <tbody>\n",
       "    <tr>\n",
       "      <th>0</th>\n",
       "      <td>4001</td>\n",
       "      <td>25</td>\n",
       "      <td>admin.</td>\n",
       "      <td>single</td>\n",
       "      <td>secondary</td>\n",
       "      <td>0</td>\n",
       "      <td>1</td>\n",
       "      <td>1</td>\n",
       "      <td>1</td>\n",
       "      <td>NaN</td>\n",
       "      <td>12</td>\n",
       "      <td>may</td>\n",
       "      <td>12</td>\n",
       "      <td>-1</td>\n",
       "      <td>0</td>\n",
       "      <td>NaN</td>\n",
       "      <td>17:17:42</td>\n",
       "      <td>17:18:06</td>\n",
       "      <td>NaN</td>\n",
       "    </tr>\n",
       "    <tr>\n",
       "      <th>1</th>\n",
       "      <td>4002</td>\n",
       "      <td>40</td>\n",
       "      <td>management</td>\n",
       "      <td>married</td>\n",
       "      <td>tertiary</td>\n",
       "      <td>0</td>\n",
       "      <td>0</td>\n",
       "      <td>1</td>\n",
       "      <td>1</td>\n",
       "      <td>cellular</td>\n",
       "      <td>24</td>\n",
       "      <td>jul</td>\n",
       "      <td>1</td>\n",
       "      <td>-1</td>\n",
       "      <td>0</td>\n",
       "      <td>NaN</td>\n",
       "      <td>09:13:44</td>\n",
       "      <td>09:14:37</td>\n",
       "      <td>NaN</td>\n",
       "    </tr>\n",
       "    <tr>\n",
       "      <th>2</th>\n",
       "      <td>4003</td>\n",
       "      <td>44</td>\n",
       "      <td>management</td>\n",
       "      <td>single</td>\n",
       "      <td>tertiary</td>\n",
       "      <td>0</td>\n",
       "      <td>-1313</td>\n",
       "      <td>1</td>\n",
       "      <td>1</td>\n",
       "      <td>cellular</td>\n",
       "      <td>15</td>\n",
       "      <td>may</td>\n",
       "      <td>10</td>\n",
       "      <td>-1</td>\n",
       "      <td>0</td>\n",
       "      <td>NaN</td>\n",
       "      <td>15:24:07</td>\n",
       "      <td>15:25:51</td>\n",
       "      <td>NaN</td>\n",
       "    </tr>\n",
       "    <tr>\n",
       "      <th>3</th>\n",
       "      <td>4004</td>\n",
       "      <td>27</td>\n",
       "      <td>services</td>\n",
       "      <td>single</td>\n",
       "      <td>secondary</td>\n",
       "      <td>0</td>\n",
       "      <td>6279</td>\n",
       "      <td>1</td>\n",
       "      <td>0</td>\n",
       "      <td>cellular</td>\n",
       "      <td>9</td>\n",
       "      <td>nov</td>\n",
       "      <td>1</td>\n",
       "      <td>-1</td>\n",
       "      <td>0</td>\n",
       "      <td>NaN</td>\n",
       "      <td>09:43:44</td>\n",
       "      <td>09:48:01</td>\n",
       "      <td>NaN</td>\n",
       "    </tr>\n",
       "    <tr>\n",
       "      <th>4</th>\n",
       "      <td>4005</td>\n",
       "      <td>53</td>\n",
       "      <td>technician</td>\n",
       "      <td>married</td>\n",
       "      <td>secondary</td>\n",
       "      <td>0</td>\n",
       "      <td>7984</td>\n",
       "      <td>1</td>\n",
       "      <td>0</td>\n",
       "      <td>cellular</td>\n",
       "      <td>2</td>\n",
       "      <td>feb</td>\n",
       "      <td>1</td>\n",
       "      <td>-1</td>\n",
       "      <td>0</td>\n",
       "      <td>NaN</td>\n",
       "      <td>16:31:51</td>\n",
       "      <td>16:34:22</td>\n",
       "      <td>NaN</td>\n",
       "    </tr>\n",
       "  </tbody>\n",
       "</table>\n",
       "</div>"
      ],
      "text/plain": [
       "     Id  Age         Job  Marital  Education  Default  Balance  HHInsurance  \\\n",
       "0  4001   25      admin.   single  secondary        0        1            1   \n",
       "1  4002   40  management  married   tertiary        0        0            1   \n",
       "2  4003   44  management   single   tertiary        0    -1313            1   \n",
       "3  4004   27    services   single  secondary        0     6279            1   \n",
       "4  4005   53  technician  married  secondary        0     7984            1   \n",
       "\n",
       "   CarLoan Communication  LastContactDay LastContactMonth  NoOfContacts  \\\n",
       "0        1           NaN              12              may            12   \n",
       "1        1      cellular              24              jul             1   \n",
       "2        1      cellular              15              may            10   \n",
       "3        0      cellular               9              nov             1   \n",
       "4        0      cellular               2              feb             1   \n",
       "\n",
       "   DaysPassed  PrevAttempts Outcome CallStart   CallEnd  CarInsurance  \n",
       "0          -1             0     NaN  17:17:42  17:18:06           NaN  \n",
       "1          -1             0     NaN  09:13:44  09:14:37           NaN  \n",
       "2          -1             0     NaN  15:24:07  15:25:51           NaN  \n",
       "3          -1             0     NaN  09:43:44  09:48:01           NaN  \n",
       "4          -1             0     NaN  16:31:51  16:34:22           NaN  "
      ]
     },
     "execution_count": 1095,
     "metadata": {},
     "output_type": "execute_result"
    }
   ],
   "source": [
    "data_test.head()"
   ]
  },
  {
   "cell_type": "code",
   "execution_count": 1096,
   "id": "e852be3a",
   "metadata": {},
   "outputs": [
    {
     "data": {
      "text/plain": [
       "(1000, 19)"
      ]
     },
     "execution_count": 1096,
     "metadata": {},
     "output_type": "execute_result"
    }
   ],
   "source": [
    "data_test.shape"
   ]
  },
  {
   "cell_type": "code",
   "execution_count": 1097,
   "id": "fa35da4f",
   "metadata": {},
   "outputs": [],
   "source": [
    "data_final=pd.concat([data_train,data_test],axis=0)"
   ]
  },
  {
   "cell_type": "code",
   "execution_count": 1098,
   "id": "a5d223b6",
   "metadata": {},
   "outputs": [
    {
     "data": {
      "text/html": [
       "<div>\n",
       "<style scoped>\n",
       "    .dataframe tbody tr th:only-of-type {\n",
       "        vertical-align: middle;\n",
       "    }\n",
       "\n",
       "    .dataframe tbody tr th {\n",
       "        vertical-align: top;\n",
       "    }\n",
       "\n",
       "    .dataframe thead th {\n",
       "        text-align: right;\n",
       "    }\n",
       "</style>\n",
       "<table border=\"1\" class=\"dataframe\">\n",
       "  <thead>\n",
       "    <tr style=\"text-align: right;\">\n",
       "      <th></th>\n",
       "      <th>Id</th>\n",
       "      <th>Age</th>\n",
       "      <th>Job</th>\n",
       "      <th>Marital</th>\n",
       "      <th>Education</th>\n",
       "      <th>Default</th>\n",
       "      <th>Balance</th>\n",
       "      <th>HHInsurance</th>\n",
       "      <th>CarLoan</th>\n",
       "      <th>Communication</th>\n",
       "      <th>LastContactDay</th>\n",
       "      <th>LastContactMonth</th>\n",
       "      <th>NoOfContacts</th>\n",
       "      <th>DaysPassed</th>\n",
       "      <th>PrevAttempts</th>\n",
       "      <th>Outcome</th>\n",
       "      <th>CallStart</th>\n",
       "      <th>CallEnd</th>\n",
       "      <th>CarInsurance</th>\n",
       "    </tr>\n",
       "  </thead>\n",
       "  <tbody>\n",
       "    <tr>\n",
       "      <th>0</th>\n",
       "      <td>1</td>\n",
       "      <td>32</td>\n",
       "      <td>management</td>\n",
       "      <td>single</td>\n",
       "      <td>tertiary</td>\n",
       "      <td>0</td>\n",
       "      <td>1218</td>\n",
       "      <td>1</td>\n",
       "      <td>0</td>\n",
       "      <td>telephone</td>\n",
       "      <td>28</td>\n",
       "      <td>jan</td>\n",
       "      <td>2</td>\n",
       "      <td>-1</td>\n",
       "      <td>0</td>\n",
       "      <td>NaN</td>\n",
       "      <td>13:45:20</td>\n",
       "      <td>13:46:30</td>\n",
       "      <td>0.0</td>\n",
       "    </tr>\n",
       "    <tr>\n",
       "      <th>1</th>\n",
       "      <td>2</td>\n",
       "      <td>32</td>\n",
       "      <td>blue-collar</td>\n",
       "      <td>married</td>\n",
       "      <td>primary</td>\n",
       "      <td>0</td>\n",
       "      <td>1156</td>\n",
       "      <td>1</td>\n",
       "      <td>0</td>\n",
       "      <td>NaN</td>\n",
       "      <td>26</td>\n",
       "      <td>may</td>\n",
       "      <td>5</td>\n",
       "      <td>-1</td>\n",
       "      <td>0</td>\n",
       "      <td>NaN</td>\n",
       "      <td>14:49:03</td>\n",
       "      <td>14:52:08</td>\n",
       "      <td>0.0</td>\n",
       "    </tr>\n",
       "    <tr>\n",
       "      <th>2</th>\n",
       "      <td>3</td>\n",
       "      <td>29</td>\n",
       "      <td>management</td>\n",
       "      <td>single</td>\n",
       "      <td>tertiary</td>\n",
       "      <td>0</td>\n",
       "      <td>637</td>\n",
       "      <td>1</td>\n",
       "      <td>0</td>\n",
       "      <td>cellular</td>\n",
       "      <td>3</td>\n",
       "      <td>jun</td>\n",
       "      <td>1</td>\n",
       "      <td>119</td>\n",
       "      <td>1</td>\n",
       "      <td>failure</td>\n",
       "      <td>16:30:24</td>\n",
       "      <td>16:36:04</td>\n",
       "      <td>1.0</td>\n",
       "    </tr>\n",
       "    <tr>\n",
       "      <th>3</th>\n",
       "      <td>4</td>\n",
       "      <td>25</td>\n",
       "      <td>student</td>\n",
       "      <td>single</td>\n",
       "      <td>primary</td>\n",
       "      <td>0</td>\n",
       "      <td>373</td>\n",
       "      <td>1</td>\n",
       "      <td>0</td>\n",
       "      <td>cellular</td>\n",
       "      <td>11</td>\n",
       "      <td>may</td>\n",
       "      <td>2</td>\n",
       "      <td>-1</td>\n",
       "      <td>0</td>\n",
       "      <td>NaN</td>\n",
       "      <td>12:06:43</td>\n",
       "      <td>12:20:22</td>\n",
       "      <td>1.0</td>\n",
       "    </tr>\n",
       "    <tr>\n",
       "      <th>4</th>\n",
       "      <td>5</td>\n",
       "      <td>30</td>\n",
       "      <td>management</td>\n",
       "      <td>married</td>\n",
       "      <td>tertiary</td>\n",
       "      <td>0</td>\n",
       "      <td>2694</td>\n",
       "      <td>0</td>\n",
       "      <td>0</td>\n",
       "      <td>cellular</td>\n",
       "      <td>3</td>\n",
       "      <td>jun</td>\n",
       "      <td>1</td>\n",
       "      <td>-1</td>\n",
       "      <td>0</td>\n",
       "      <td>NaN</td>\n",
       "      <td>14:35:44</td>\n",
       "      <td>14:38:56</td>\n",
       "      <td>0.0</td>\n",
       "    </tr>\n",
       "  </tbody>\n",
       "</table>\n",
       "</div>"
      ],
      "text/plain": [
       "   Id  Age          Job  Marital Education  Default  Balance  HHInsurance  \\\n",
       "0   1   32   management   single  tertiary        0     1218            1   \n",
       "1   2   32  blue-collar  married   primary        0     1156            1   \n",
       "2   3   29   management   single  tertiary        0      637            1   \n",
       "3   4   25      student   single   primary        0      373            1   \n",
       "4   5   30   management  married  tertiary        0     2694            0   \n",
       "\n",
       "   CarLoan Communication  LastContactDay LastContactMonth  NoOfContacts  \\\n",
       "0        0     telephone              28              jan             2   \n",
       "1        0           NaN              26              may             5   \n",
       "2        0      cellular               3              jun             1   \n",
       "3        0      cellular              11              may             2   \n",
       "4        0      cellular               3              jun             1   \n",
       "\n",
       "   DaysPassed  PrevAttempts  Outcome CallStart   CallEnd  CarInsurance  \n",
       "0          -1             0      NaN  13:45:20  13:46:30           0.0  \n",
       "1          -1             0      NaN  14:49:03  14:52:08           0.0  \n",
       "2         119             1  failure  16:30:24  16:36:04           1.0  \n",
       "3          -1             0      NaN  12:06:43  12:20:22           1.0  \n",
       "4          -1             0      NaN  14:35:44  14:38:56           0.0  "
      ]
     },
     "execution_count": 1098,
     "metadata": {},
     "output_type": "execute_result"
    }
   ],
   "source": [
    "data_final.head()"
   ]
  },
  {
   "cell_type": "code",
   "execution_count": 1099,
   "id": "5a64e54f",
   "metadata": {},
   "outputs": [
    {
     "data": {
      "text/plain": [
       "(5000, 19)"
      ]
     },
     "execution_count": 1099,
     "metadata": {},
     "output_type": "execute_result"
    }
   ],
   "source": [
    "data_final.shape"
   ]
  },
  {
   "cell_type": "code",
   "execution_count": 1100,
   "id": "fa582774",
   "metadata": {},
   "outputs": [
    {
     "data": {
      "text/html": [
       "<div>\n",
       "<style scoped>\n",
       "    .dataframe tbody tr th:only-of-type {\n",
       "        vertical-align: middle;\n",
       "    }\n",
       "\n",
       "    .dataframe tbody tr th {\n",
       "        vertical-align: top;\n",
       "    }\n",
       "\n",
       "    .dataframe thead th {\n",
       "        text-align: right;\n",
       "    }\n",
       "</style>\n",
       "<table border=\"1\" class=\"dataframe\">\n",
       "  <thead>\n",
       "    <tr style=\"text-align: right;\">\n",
       "      <th></th>\n",
       "      <th>count</th>\n",
       "      <th>mean</th>\n",
       "      <th>std</th>\n",
       "      <th>min</th>\n",
       "      <th>25%</th>\n",
       "      <th>50%</th>\n",
       "      <th>75%</th>\n",
       "      <th>max</th>\n",
       "    </tr>\n",
       "  </thead>\n",
       "  <tbody>\n",
       "    <tr>\n",
       "      <th>Id</th>\n",
       "      <td>5000.0</td>\n",
       "      <td>2500.5000</td>\n",
       "      <td>1443.520003</td>\n",
       "      <td>1.0</td>\n",
       "      <td>1250.75</td>\n",
       "      <td>2500.5</td>\n",
       "      <td>3750.25</td>\n",
       "      <td>5000.0</td>\n",
       "    </tr>\n",
       "    <tr>\n",
       "      <th>Age</th>\n",
       "      <td>5000.0</td>\n",
       "      <td>41.2664</td>\n",
       "      <td>11.651428</td>\n",
       "      <td>18.0</td>\n",
       "      <td>32.00</td>\n",
       "      <td>39.0</td>\n",
       "      <td>49.00</td>\n",
       "      <td>95.0</td>\n",
       "    </tr>\n",
       "    <tr>\n",
       "      <th>Default</th>\n",
       "      <td>5000.0</td>\n",
       "      <td>0.0142</td>\n",
       "      <td>0.118326</td>\n",
       "      <td>0.0</td>\n",
       "      <td>0.00</td>\n",
       "      <td>0.0</td>\n",
       "      <td>0.00</td>\n",
       "      <td>1.0</td>\n",
       "    </tr>\n",
       "    <tr>\n",
       "      <th>Balance</th>\n",
       "      <td>5000.0</td>\n",
       "      <td>1506.0094</td>\n",
       "      <td>3358.730128</td>\n",
       "      <td>-3058.0</td>\n",
       "      <td>113.00</td>\n",
       "      <td>538.0</td>\n",
       "      <td>1615.25</td>\n",
       "      <td>98417.0</td>\n",
       "    </tr>\n",
       "    <tr>\n",
       "      <th>HHInsurance</th>\n",
       "      <td>5000.0</td>\n",
       "      <td>0.4968</td>\n",
       "      <td>0.500040</td>\n",
       "      <td>0.0</td>\n",
       "      <td>0.00</td>\n",
       "      <td>0.0</td>\n",
       "      <td>1.00</td>\n",
       "      <td>1.0</td>\n",
       "    </tr>\n",
       "    <tr>\n",
       "      <th>CarLoan</th>\n",
       "      <td>5000.0</td>\n",
       "      <td>0.1306</td>\n",
       "      <td>0.336996</td>\n",
       "      <td>0.0</td>\n",
       "      <td>0.00</td>\n",
       "      <td>0.0</td>\n",
       "      <td>0.00</td>\n",
       "      <td>1.0</td>\n",
       "    </tr>\n",
       "    <tr>\n",
       "      <th>LastContactDay</th>\n",
       "      <td>5000.0</td>\n",
       "      <td>15.6862</td>\n",
       "      <td>8.413839</td>\n",
       "      <td>1.0</td>\n",
       "      <td>8.00</td>\n",
       "      <td>16.0</td>\n",
       "      <td>22.00</td>\n",
       "      <td>31.0</td>\n",
       "    </tr>\n",
       "    <tr>\n",
       "      <th>NoOfContacts</th>\n",
       "      <td>5000.0</td>\n",
       "      <td>2.5874</td>\n",
       "      <td>2.973235</td>\n",
       "      <td>1.0</td>\n",
       "      <td>1.00</td>\n",
       "      <td>2.0</td>\n",
       "      <td>3.00</td>\n",
       "      <td>43.0</td>\n",
       "    </tr>\n",
       "    <tr>\n",
       "      <th>DaysPassed</th>\n",
       "      <td>5000.0</td>\n",
       "      <td>49.2958</td>\n",
       "      <td>107.152847</td>\n",
       "      <td>-1.0</td>\n",
       "      <td>-1.00</td>\n",
       "      <td>-1.0</td>\n",
       "      <td>-1.00</td>\n",
       "      <td>854.0</td>\n",
       "    </tr>\n",
       "    <tr>\n",
       "      <th>PrevAttempts</th>\n",
       "      <td>5000.0</td>\n",
       "      <td>0.7352</td>\n",
       "      <td>2.069961</td>\n",
       "      <td>0.0</td>\n",
       "      <td>0.00</td>\n",
       "      <td>0.0</td>\n",
       "      <td>0.00</td>\n",
       "      <td>58.0</td>\n",
       "    </tr>\n",
       "    <tr>\n",
       "      <th>CarInsurance</th>\n",
       "      <td>4000.0</td>\n",
       "      <td>0.4010</td>\n",
       "      <td>0.490162</td>\n",
       "      <td>0.0</td>\n",
       "      <td>0.00</td>\n",
       "      <td>0.0</td>\n",
       "      <td>1.00</td>\n",
       "      <td>1.0</td>\n",
       "    </tr>\n",
       "  </tbody>\n",
       "</table>\n",
       "</div>"
      ],
      "text/plain": [
       "                 count       mean          std     min      25%     50%  \\\n",
       "Id              5000.0  2500.5000  1443.520003     1.0  1250.75  2500.5   \n",
       "Age             5000.0    41.2664    11.651428    18.0    32.00    39.0   \n",
       "Default         5000.0     0.0142     0.118326     0.0     0.00     0.0   \n",
       "Balance         5000.0  1506.0094  3358.730128 -3058.0   113.00   538.0   \n",
       "HHInsurance     5000.0     0.4968     0.500040     0.0     0.00     0.0   \n",
       "CarLoan         5000.0     0.1306     0.336996     0.0     0.00     0.0   \n",
       "LastContactDay  5000.0    15.6862     8.413839     1.0     8.00    16.0   \n",
       "NoOfContacts    5000.0     2.5874     2.973235     1.0     1.00     2.0   \n",
       "DaysPassed      5000.0    49.2958   107.152847    -1.0    -1.00    -1.0   \n",
       "PrevAttempts    5000.0     0.7352     2.069961     0.0     0.00     0.0   \n",
       "CarInsurance    4000.0     0.4010     0.490162     0.0     0.00     0.0   \n",
       "\n",
       "                    75%      max  \n",
       "Id              3750.25   5000.0  \n",
       "Age               49.00     95.0  \n",
       "Default            0.00      1.0  \n",
       "Balance         1615.25  98417.0  \n",
       "HHInsurance        1.00      1.0  \n",
       "CarLoan            0.00      1.0  \n",
       "LastContactDay    22.00     31.0  \n",
       "NoOfContacts       3.00     43.0  \n",
       "DaysPassed        -1.00    854.0  \n",
       "PrevAttempts       0.00     58.0  \n",
       "CarInsurance       1.00      1.0  "
      ]
     },
     "execution_count": 1100,
     "metadata": {},
     "output_type": "execute_result"
    }
   ],
   "source": [
    "data_final.describe().T"
   ]
  },
  {
   "cell_type": "code",
   "execution_count": 1101,
   "id": "63d3f948",
   "metadata": {},
   "outputs": [
    {
     "name": "stdout",
     "output_type": "stream",
     "text": [
      "<class 'pandas.core.frame.DataFrame'>\n",
      "Int64Index: 5000 entries, 0 to 999\n",
      "Data columns (total 19 columns):\n",
      " #   Column            Non-Null Count  Dtype  \n",
      "---  ------            --------------  -----  \n",
      " 0   Id                5000 non-null   int64  \n",
      " 1   Age               5000 non-null   int64  \n",
      " 2   Job               4976 non-null   object \n",
      " 3   Marital           5000 non-null   object \n",
      " 4   Education         4784 non-null   object \n",
      " 5   Default           5000 non-null   int64  \n",
      " 6   Balance           5000 non-null   int64  \n",
      " 7   HHInsurance       5000 non-null   int64  \n",
      " 8   CarLoan           5000 non-null   int64  \n",
      " 9   Communication     3877 non-null   object \n",
      " 10  LastContactDay    5000 non-null   int64  \n",
      " 11  LastContactMonth  5000 non-null   object \n",
      " 12  NoOfContacts      5000 non-null   int64  \n",
      " 13  DaysPassed        5000 non-null   int64  \n",
      " 14  PrevAttempts      5000 non-null   int64  \n",
      " 15  Outcome           1201 non-null   object \n",
      " 16  CallStart         5000 non-null   object \n",
      " 17  CallEnd           5000 non-null   object \n",
      " 18  CarInsurance      4000 non-null   float64\n",
      "dtypes: float64(1), int64(10), object(8)\n",
      "memory usage: 781.2+ KB\n"
     ]
    }
   ],
   "source": [
    "data_final.info()"
   ]
  },
  {
   "cell_type": "code",
   "execution_count": 1102,
   "id": "316ede08",
   "metadata": {},
   "outputs": [
    {
     "data": {
      "text/plain": [
       "Id                     0\n",
       "Age                    0\n",
       "Job                   24\n",
       "Marital                0\n",
       "Education            216\n",
       "Default                0\n",
       "Balance                0\n",
       "HHInsurance            0\n",
       "CarLoan                0\n",
       "Communication       1123\n",
       "LastContactDay         0\n",
       "LastContactMonth       0\n",
       "NoOfContacts           0\n",
       "DaysPassed             0\n",
       "PrevAttempts           0\n",
       "Outcome             3799\n",
       "CallStart              0\n",
       "CallEnd                0\n",
       "CarInsurance        1000\n",
       "dtype: int64"
      ]
     },
     "execution_count": 1102,
     "metadata": {},
     "output_type": "execute_result"
    }
   ],
   "source": [
    "data_final.isnull().sum()"
   ]
  },
  {
   "cell_type": "code",
   "execution_count": 1103,
   "id": "37e3ca76",
   "metadata": {
    "scrolled": true
   },
   "outputs": [
    {
     "data": {
      "text/plain": [
       "Index(['Id', 'Age', 'Job', 'Marital', 'Education', 'Default', 'Balance',\n",
       "       'HHInsurance', 'CarLoan', 'Communication', 'LastContactDay',\n",
       "       'LastContactMonth', 'NoOfContacts', 'DaysPassed', 'PrevAttempts',\n",
       "       'Outcome', 'CallStart', 'CallEnd', 'CarInsurance'],\n",
       "      dtype='object')"
      ]
     },
     "execution_count": 1103,
     "metadata": {},
     "output_type": "execute_result"
    }
   ],
   "source": [
    "data_final.columns"
   ]
  },
  {
   "cell_type": "code",
   "execution_count": 1104,
   "id": "e78709f0",
   "metadata": {
    "scrolled": false
   },
   "outputs": [
    {
     "data": {
      "text/html": [
       "<div>\n",
       "<style scoped>\n",
       "    .dataframe tbody tr th:only-of-type {\n",
       "        vertical-align: middle;\n",
       "    }\n",
       "\n",
       "    .dataframe tbody tr th {\n",
       "        vertical-align: top;\n",
       "    }\n",
       "\n",
       "    .dataframe thead th {\n",
       "        text-align: right;\n",
       "    }\n",
       "</style>\n",
       "<table border=\"1\" class=\"dataframe\">\n",
       "  <thead>\n",
       "    <tr style=\"text-align: right;\">\n",
       "      <th></th>\n",
       "      <th>Id</th>\n",
       "      <th>Age</th>\n",
       "      <th>Default</th>\n",
       "      <th>Balance</th>\n",
       "      <th>HHInsurance</th>\n",
       "      <th>CarLoan</th>\n",
       "      <th>LastContactDay</th>\n",
       "      <th>NoOfContacts</th>\n",
       "      <th>DaysPassed</th>\n",
       "      <th>PrevAttempts</th>\n",
       "      <th>CarInsurance</th>\n",
       "    </tr>\n",
       "  </thead>\n",
       "  <tbody>\n",
       "    <tr>\n",
       "      <th>Id</th>\n",
       "      <td>1.000000</td>\n",
       "      <td>0.009291</td>\n",
       "      <td>-0.001931</td>\n",
       "      <td>-0.017094</td>\n",
       "      <td>0.011585</td>\n",
       "      <td>-0.014993</td>\n",
       "      <td>-0.017696</td>\n",
       "      <td>-0.003105</td>\n",
       "      <td>0.014125</td>\n",
       "      <td>0.019420</td>\n",
       "      <td>-0.017864</td>\n",
       "    </tr>\n",
       "    <tr>\n",
       "      <th>Age</th>\n",
       "      <td>0.009291</td>\n",
       "      <td>1.000000</td>\n",
       "      <td>-0.004050</td>\n",
       "      <td>0.087753</td>\n",
       "      <td>-0.182377</td>\n",
       "      <td>-0.018593</td>\n",
       "      <td>0.016128</td>\n",
       "      <td>0.018279</td>\n",
       "      <td>-0.009774</td>\n",
       "      <td>0.014811</td>\n",
       "      <td>0.039158</td>\n",
       "    </tr>\n",
       "    <tr>\n",
       "      <th>Default</th>\n",
       "      <td>-0.001931</td>\n",
       "      <td>-0.004050</td>\n",
       "      <td>1.000000</td>\n",
       "      <td>-0.056292</td>\n",
       "      <td>0.002459</td>\n",
       "      <td>0.114014</td>\n",
       "      <td>0.011710</td>\n",
       "      <td>0.022343</td>\n",
       "      <td>-0.013758</td>\n",
       "      <td>-0.028748</td>\n",
       "      <td>-0.039506</td>\n",
       "    </tr>\n",
       "    <tr>\n",
       "      <th>Balance</th>\n",
       "      <td>-0.017094</td>\n",
       "      <td>0.087753</td>\n",
       "      <td>-0.056292</td>\n",
       "      <td>1.000000</td>\n",
       "      <td>-0.075793</td>\n",
       "      <td>-0.083901</td>\n",
       "      <td>0.007725</td>\n",
       "      <td>-0.009262</td>\n",
       "      <td>0.003609</td>\n",
       "      <td>0.012897</td>\n",
       "      <td>0.041561</td>\n",
       "    </tr>\n",
       "    <tr>\n",
       "      <th>HHInsurance</th>\n",
       "      <td>0.011585</td>\n",
       "      <td>-0.182377</td>\n",
       "      <td>0.002459</td>\n",
       "      <td>-0.075793</td>\n",
       "      <td>1.000000</td>\n",
       "      <td>0.079049</td>\n",
       "      <td>-0.022277</td>\n",
       "      <td>-0.011989</td>\n",
       "      <td>0.077391</td>\n",
       "      <td>0.020054</td>\n",
       "      <td>-0.203419</td>\n",
       "    </tr>\n",
       "    <tr>\n",
       "      <th>CarLoan</th>\n",
       "      <td>-0.014993</td>\n",
       "      <td>-0.018593</td>\n",
       "      <td>0.114014</td>\n",
       "      <td>-0.083901</td>\n",
       "      <td>0.079049</td>\n",
       "      <td>1.000000</td>\n",
       "      <td>0.015444</td>\n",
       "      <td>0.019252</td>\n",
       "      <td>-0.041898</td>\n",
       "      <td>-0.023539</td>\n",
       "      <td>-0.092131</td>\n",
       "    </tr>\n",
       "    <tr>\n",
       "      <th>LastContactDay</th>\n",
       "      <td>-0.017696</td>\n",
       "      <td>0.016128</td>\n",
       "      <td>0.011710</td>\n",
       "      <td>0.007725</td>\n",
       "      <td>-0.022277</td>\n",
       "      <td>0.015444</td>\n",
       "      <td>1.000000</td>\n",
       "      <td>0.144971</td>\n",
       "      <td>-0.074961</td>\n",
       "      <td>-0.071895</td>\n",
       "      <td>-0.061271</td>\n",
       "    </tr>\n",
       "    <tr>\n",
       "      <th>NoOfContacts</th>\n",
       "      <td>-0.003105</td>\n",
       "      <td>0.018279</td>\n",
       "      <td>0.022343</td>\n",
       "      <td>-0.009262</td>\n",
       "      <td>-0.011989</td>\n",
       "      <td>0.019252</td>\n",
       "      <td>0.144971</td>\n",
       "      <td>1.000000</td>\n",
       "      <td>-0.102470</td>\n",
       "      <td>-0.062935</td>\n",
       "      <td>-0.114884</td>\n",
       "    </tr>\n",
       "    <tr>\n",
       "      <th>DaysPassed</th>\n",
       "      <td>0.014125</td>\n",
       "      <td>-0.009774</td>\n",
       "      <td>-0.013758</td>\n",
       "      <td>0.003609</td>\n",
       "      <td>0.077391</td>\n",
       "      <td>-0.041898</td>\n",
       "      <td>-0.074961</td>\n",
       "      <td>-0.102470</td>\n",
       "      <td>1.000000</td>\n",
       "      <td>0.503369</td>\n",
       "      <td>0.138943</td>\n",
       "    </tr>\n",
       "    <tr>\n",
       "      <th>PrevAttempts</th>\n",
       "      <td>0.019420</td>\n",
       "      <td>0.014811</td>\n",
       "      <td>-0.028748</td>\n",
       "      <td>0.012897</td>\n",
       "      <td>0.020054</td>\n",
       "      <td>-0.023539</td>\n",
       "      <td>-0.071895</td>\n",
       "      <td>-0.062935</td>\n",
       "      <td>0.503369</td>\n",
       "      <td>1.000000</td>\n",
       "      <td>0.148763</td>\n",
       "    </tr>\n",
       "    <tr>\n",
       "      <th>CarInsurance</th>\n",
       "      <td>-0.017864</td>\n",
       "      <td>0.039158</td>\n",
       "      <td>-0.039506</td>\n",
       "      <td>0.041561</td>\n",
       "      <td>-0.203419</td>\n",
       "      <td>-0.092131</td>\n",
       "      <td>-0.061271</td>\n",
       "      <td>-0.114884</td>\n",
       "      <td>0.138943</td>\n",
       "      <td>0.148763</td>\n",
       "      <td>1.000000</td>\n",
       "    </tr>\n",
       "  </tbody>\n",
       "</table>\n",
       "</div>"
      ],
      "text/plain": [
       "                      Id       Age   Default   Balance  HHInsurance   CarLoan  \\\n",
       "Id              1.000000  0.009291 -0.001931 -0.017094     0.011585 -0.014993   \n",
       "Age             0.009291  1.000000 -0.004050  0.087753    -0.182377 -0.018593   \n",
       "Default        -0.001931 -0.004050  1.000000 -0.056292     0.002459  0.114014   \n",
       "Balance        -0.017094  0.087753 -0.056292  1.000000    -0.075793 -0.083901   \n",
       "HHInsurance     0.011585 -0.182377  0.002459 -0.075793     1.000000  0.079049   \n",
       "CarLoan        -0.014993 -0.018593  0.114014 -0.083901     0.079049  1.000000   \n",
       "LastContactDay -0.017696  0.016128  0.011710  0.007725    -0.022277  0.015444   \n",
       "NoOfContacts   -0.003105  0.018279  0.022343 -0.009262    -0.011989  0.019252   \n",
       "DaysPassed      0.014125 -0.009774 -0.013758  0.003609     0.077391 -0.041898   \n",
       "PrevAttempts    0.019420  0.014811 -0.028748  0.012897     0.020054 -0.023539   \n",
       "CarInsurance   -0.017864  0.039158 -0.039506  0.041561    -0.203419 -0.092131   \n",
       "\n",
       "                LastContactDay  NoOfContacts  DaysPassed  PrevAttempts  \\\n",
       "Id                   -0.017696     -0.003105    0.014125      0.019420   \n",
       "Age                   0.016128      0.018279   -0.009774      0.014811   \n",
       "Default               0.011710      0.022343   -0.013758     -0.028748   \n",
       "Balance               0.007725     -0.009262    0.003609      0.012897   \n",
       "HHInsurance          -0.022277     -0.011989    0.077391      0.020054   \n",
       "CarLoan               0.015444      0.019252   -0.041898     -0.023539   \n",
       "LastContactDay        1.000000      0.144971   -0.074961     -0.071895   \n",
       "NoOfContacts          0.144971      1.000000   -0.102470     -0.062935   \n",
       "DaysPassed           -0.074961     -0.102470    1.000000      0.503369   \n",
       "PrevAttempts         -0.071895     -0.062935    0.503369      1.000000   \n",
       "CarInsurance         -0.061271     -0.114884    0.138943      0.148763   \n",
       "\n",
       "                CarInsurance  \n",
       "Id                 -0.017864  \n",
       "Age                 0.039158  \n",
       "Default            -0.039506  \n",
       "Balance             0.041561  \n",
       "HHInsurance        -0.203419  \n",
       "CarLoan            -0.092131  \n",
       "LastContactDay     -0.061271  \n",
       "NoOfContacts       -0.114884  \n",
       "DaysPassed          0.138943  \n",
       "PrevAttempts        0.148763  \n",
       "CarInsurance        1.000000  "
      ]
     },
     "execution_count": 1104,
     "metadata": {},
     "output_type": "execute_result"
    }
   ],
   "source": [
    "data_final.corr()"
   ]
  },
  {
   "cell_type": "markdown",
   "id": "a75054a0",
   "metadata": {},
   "source": [
    "## Unvariate and Bivariate Analysis"
   ]
  },
  {
   "cell_type": "code",
   "execution_count": 1105,
   "id": "48d73734",
   "metadata": {},
   "outputs": [
    {
     "data": {
      "image/png": "[encoded data removed]",
      "text/plain": [
       "<Figure size 720x504 with 3 Axes>"
      ]
     },
     "metadata": {
      "needs_background": "light"
     },
     "output_type": "display_data"
    }
   ],
   "source": [
    "# Distribution plot\n",
    "\n",
    "plt.figure(figsize=(10,7))\n",
    "\n",
    "plt.subplot(2,2,1)\n",
    "sns.distplot(x=data_final['Age']) \n",
    "plt.title('AGE')\n",
    "\n",
    "plt.subplot(2,2,2)\n",
    "sns.distplot(x=data_final['CarInsurance'])\n",
    "plt.title('CARINSURANCE')\n",
    "\n",
    "plt.subplot(2,2,3)\n",
    "sns.distplot(x=data_final['HHInsurance'])\n",
    "plt.title('HHINSURANCE')\n",
    "\n",
    "plt.show()"
   ]
  },
  {
   "cell_type": "code",
   "execution_count": 1106,
   "id": "9fca7eaf",
   "metadata": {},
   "outputs": [
    {
     "data": {
      "image/png": "[encoded data removed]",
      "text/plain": [
       "<Figure size 1440x1080 with 5 Axes>"
      ]
     },
     "metadata": {
      "needs_background": "light"
     },
     "output_type": "display_data"
    }
   ],
   "source": [
    "# Box Plot\n",
    "\n",
    "plt.figure(figsize=(20,15))\n",
    "\n",
    "plt.subplot(3,2,1)\n",
    "sns.boxplot(data_final['LastContactDay'])\n",
    "plt.title('LastContactDay')\n",
    "\n",
    "plt.subplot(3,2,2)\n",
    "sns.boxplot(data_final['NoOfContacts'])\n",
    "plt.title('NoOfContacts')\n",
    "\n",
    "plt.subplot(3,2,3)\n",
    "sns.boxplot(data_final['DaysPassed'])\n",
    "plt.title('DaysPassed')\n",
    "\n",
    "plt.subplot(3,2,4)\n",
    "sns.boxplot(data_final['PrevAttempts'])\n",
    "plt.title('PrevAttempts')\n",
    "\n",
    "plt.subplot(3,2,5)\n",
    "sns.boxplot(data_final['Balance'])\n",
    "plt.title('Balance')\n",
    "\n",
    "plt.show()"
   ]
  },
  {
   "cell_type": "markdown",
   "id": "10f0847e",
   "metadata": {},
   "source": [
    "## Treating the Missing Values"
   ]
  },
  {
   "cell_type": "code",
   "execution_count": 1107,
   "id": "64be1a6a",
   "metadata": {},
   "outputs": [
    {
     "data": {
      "text/plain": [
       "Outcome             75.98\n",
       "Communication       22.46\n",
       "CarInsurance        20.00\n",
       "Education            4.32\n",
       "Job                  0.48\n",
       "Marital              0.00\n",
       "Default              0.00\n",
       "Balance              0.00\n",
       "HHInsurance          0.00\n",
       "CarLoan              0.00\n",
       "Age                  0.00\n",
       "LastContactDay       0.00\n",
       "LastContactMonth     0.00\n",
       "NoOfContacts         0.00\n",
       "DaysPassed           0.00\n",
       "PrevAttempts         0.00\n",
       "CallStart            0.00\n",
       "CallEnd              0.00\n",
       "Id                   0.00\n",
       "dtype: float64"
      ]
     },
     "execution_count": 1107,
     "metadata": {},
     "output_type": "execute_result"
    }
   ],
   "source": [
    "((data_final.isnull().sum()/data_final.isnull().count())*100).sort_values(ascending=False)"
   ]
  },
  {
   "cell_type": "code",
   "execution_count": 1108,
   "id": "7bb459a4",
   "metadata": {},
   "outputs": [
    {
     "data": {
      "text/plain": [
       "management       1114\n",
       "blue-collar       937\n",
       "technician        823\n",
       "admin.            586\n",
       "services          414\n",
       "retired           326\n",
       "self-employed     182\n",
       "unemployed        164\n",
       "student           158\n",
       "entrepreneur      149\n",
       "housemaid         123\n",
       "Name: Job, dtype: int64"
      ]
     },
     "execution_count": 1108,
     "metadata": {},
     "output_type": "execute_result"
    }
   ],
   "source": [
    "data_final['Job'].value_counts()"
   ]
  },
  {
   "cell_type": "code",
   "execution_count": 1109,
   "id": "5602c048",
   "metadata": {},
   "outputs": [],
   "source": [
    "data_final['Job'] = data_final['Job'].fillna('management')"
   ]
  },
  {
   "cell_type": "code",
   "execution_count": 1110,
   "id": "e2b999d7",
   "metadata": {},
   "outputs": [
    {
     "data": {
      "text/plain": [
       "secondary    2489\n",
       "tertiary     1601\n",
       "primary       694\n",
       "Name: Education, dtype: int64"
      ]
     },
     "execution_count": 1110,
     "metadata": {},
     "output_type": "execute_result"
    }
   ],
   "source": [
    "data_final['Education'].value_counts()"
   ]
  },
  {
   "cell_type": "code",
   "execution_count": 1111,
   "id": "240d3349",
   "metadata": {},
   "outputs": [],
   "source": [
    "data_final['Education'] = data_final['Education'].fillna('secondary')"
   ]
  },
  {
   "cell_type": "code",
   "execution_count": 1112,
   "id": "36891f07",
   "metadata": {},
   "outputs": [
    {
     "data": {
      "text/plain": [
       "cellular     3529\n",
       "telephone     348\n",
       "Name: Communication, dtype: int64"
      ]
     },
     "execution_count": 1112,
     "metadata": {},
     "output_type": "execute_result"
    }
   ],
   "source": [
    "data_final['Communication'].value_counts()"
   ]
  },
  {
   "cell_type": "code",
   "execution_count": 1113,
   "id": "d50921cb",
   "metadata": {},
   "outputs": [],
   "source": [
    "data_final['Communication'] = data_final['Communication'].fillna('cellular')"
   ]
  },
  {
   "cell_type": "code",
   "execution_count": 1114,
   "id": "6f81a69c",
   "metadata": {},
   "outputs": [],
   "source": [
    "del data_final['Outcome']"
   ]
  },
  {
   "cell_type": "code",
   "execution_count": 1115,
   "id": "9041537f",
   "metadata": {},
   "outputs": [
    {
     "data": {
      "text/plain": [
       "Id                     0\n",
       "Age                    0\n",
       "Job                    0\n",
       "Marital                0\n",
       "Education              0\n",
       "Default                0\n",
       "Balance                0\n",
       "HHInsurance            0\n",
       "CarLoan                0\n",
       "Communication          0\n",
       "LastContactDay         0\n",
       "LastContactMonth       0\n",
       "NoOfContacts           0\n",
       "DaysPassed             0\n",
       "PrevAttempts           0\n",
       "CallStart              0\n",
       "CallEnd                0\n",
       "CarInsurance        1000\n",
       "dtype: int64"
      ]
     },
     "execution_count": 1115,
     "metadata": {},
     "output_type": "execute_result"
    }
   ],
   "source": [
    "data_final.isnull().sum()"
   ]
  },
  {
   "cell_type": "code",
   "execution_count": 1155,
   "id": "1ca71cc2",
   "metadata": {},
   "outputs": [],
   "source": [
    "del data_train['Outcome']"
   ]
  },
  {
   "cell_type": "code",
   "execution_count": 1156,
   "id": "35616c10",
   "metadata": {},
   "outputs": [],
   "source": [
    "del data_test['Outcome']"
   ]
  },
  {
   "cell_type": "markdown",
   "id": "21cb7dd9",
   "metadata": {},
   "source": [
    "## Treating the Outliers"
   ]
  },
  {
   "cell_type": "code",
   "execution_count": 1116,
   "id": "4da0b694",
   "metadata": {},
   "outputs": [
    {
     "data": {
      "image/png": "[encoded data removed]",
      "text/plain": [
       "<Figure size 432x288 with 1 Axes>"
      ]
     },
     "metadata": {
      "needs_background": "light"
     },
     "output_type": "display_data"
    }
   ],
   "source": [
    "plt.scatter(x=data_final['NoOfContacts'], y=data_final['CarInsurance'])\n",
    "plt.show()"
   ]
  },
  {
   "cell_type": "code",
   "execution_count": 1117,
   "id": "4b27128d",
   "metadata": {},
   "outputs": [
    {
     "data": {
      "text/html": [
       "<div>\n",
       "<style scoped>\n",
       "    .dataframe tbody tr th:only-of-type {\n",
       "        vertical-align: middle;\n",
       "    }\n",
       "\n",
       "    .dataframe tbody tr th {\n",
       "        vertical-align: top;\n",
       "    }\n",
       "\n",
       "    .dataframe thead th {\n",
       "        text-align: right;\n",
       "    }\n",
       "</style>\n",
       "<table border=\"1\" class=\"dataframe\">\n",
       "  <thead>\n",
       "    <tr style=\"text-align: right;\">\n",
       "      <th></th>\n",
       "      <th>Id</th>\n",
       "      <th>Age</th>\n",
       "      <th>Job</th>\n",
       "      <th>Marital</th>\n",
       "      <th>Education</th>\n",
       "      <th>Default</th>\n",
       "      <th>Balance</th>\n",
       "      <th>HHInsurance</th>\n",
       "      <th>CarLoan</th>\n",
       "      <th>Communication</th>\n",
       "      <th>LastContactDay</th>\n",
       "      <th>LastContactMonth</th>\n",
       "      <th>NoOfContacts</th>\n",
       "      <th>DaysPassed</th>\n",
       "      <th>PrevAttempts</th>\n",
       "      <th>CallStart</th>\n",
       "      <th>CallEnd</th>\n",
       "      <th>CarInsurance</th>\n",
       "    </tr>\n",
       "  </thead>\n",
       "  <tbody>\n",
       "    <tr>\n",
       "      <th>3168</th>\n",
       "      <td>3169</td>\n",
       "      <td>33</td>\n",
       "      <td>blue-collar</td>\n",
       "      <td>married</td>\n",
       "      <td>secondary</td>\n",
       "      <td>0</td>\n",
       "      <td>0</td>\n",
       "      <td>1</td>\n",
       "      <td>1</td>\n",
       "      <td>cellular</td>\n",
       "      <td>31</td>\n",
       "      <td>jul</td>\n",
       "      <td>43</td>\n",
       "      <td>-1</td>\n",
       "      <td>0</td>\n",
       "      <td>17:56:12</td>\n",
       "      <td>17:56:28</td>\n",
       "      <td>0.0</td>\n",
       "    </tr>\n",
       "    <tr>\n",
       "      <th>3575</th>\n",
       "      <td>3576</td>\n",
       "      <td>28</td>\n",
       "      <td>blue-collar</td>\n",
       "      <td>single</td>\n",
       "      <td>secondary</td>\n",
       "      <td>0</td>\n",
       "      <td>623</td>\n",
       "      <td>0</td>\n",
       "      <td>0</td>\n",
       "      <td>cellular</td>\n",
       "      <td>18</td>\n",
       "      <td>jun</td>\n",
       "      <td>41</td>\n",
       "      <td>-1</td>\n",
       "      <td>0</td>\n",
       "      <td>10:27:24</td>\n",
       "      <td>10:27:49</td>\n",
       "      <td>0.0</td>\n",
       "    </tr>\n",
       "  </tbody>\n",
       "</table>\n",
       "</div>"
      ],
      "text/plain": [
       "        Id  Age          Job  Marital  Education  Default  Balance  \\\n",
       "3168  3169   33  blue-collar  married  secondary        0        0   \n",
       "3575  3576   28  blue-collar   single  secondary        0      623   \n",
       "\n",
       "      HHInsurance  CarLoan Communication  LastContactDay LastContactMonth  \\\n",
       "3168            1        1      cellular              31              jul   \n",
       "3575            0        0      cellular              18              jun   \n",
       "\n",
       "      NoOfContacts  DaysPassed  PrevAttempts CallStart   CallEnd  CarInsurance  \n",
       "3168            43          -1             0  17:56:12  17:56:28           0.0  \n",
       "3575            41          -1             0  10:27:24  10:27:49           0.0  "
      ]
     },
     "execution_count": 1117,
     "metadata": {},
     "output_type": "execute_result"
    }
   ],
   "source": [
    "data_final[data_final['NoOfContacts']>40]"
   ]
  },
  {
   "cell_type": "code",
   "execution_count": 1118,
   "id": "06def395",
   "metadata": {},
   "outputs": [],
   "source": [
    "#data_final.drop(index=[3168,3575], inplace=True)"
   ]
  },
  {
   "cell_type": "code",
   "execution_count": 1119,
   "id": "e5a65aef",
   "metadata": {},
   "outputs": [
    {
     "data": {
      "image/png": "[encoded data removed]",
      "text/plain": [
       "<Figure size 432x288 with 1 Axes>"
      ]
     },
     "metadata": {
      "needs_background": "light"
     },
     "output_type": "display_data"
    }
   ],
   "source": [
    "plt.scatter(x=data_final['DaysPassed'], y=data_final['CarInsurance'])\n",
    "plt.show()"
   ]
  },
  {
   "cell_type": "code",
   "execution_count": 1120,
   "id": "9ac18217",
   "metadata": {},
   "outputs": [
    {
     "data": {
      "text/html": [
       "<div>\n",
       "<style scoped>\n",
       "    .dataframe tbody tr th:only-of-type {\n",
       "        vertical-align: middle;\n",
       "    }\n",
       "\n",
       "    .dataframe tbody tr th {\n",
       "        vertical-align: top;\n",
       "    }\n",
       "\n",
       "    .dataframe thead th {\n",
       "        text-align: right;\n",
       "    }\n",
       "</style>\n",
       "<table border=\"1\" class=\"dataframe\">\n",
       "  <thead>\n",
       "    <tr style=\"text-align: right;\">\n",
       "      <th></th>\n",
       "      <th>Id</th>\n",
       "      <th>Age</th>\n",
       "      <th>Job</th>\n",
       "      <th>Marital</th>\n",
       "      <th>Education</th>\n",
       "      <th>Default</th>\n",
       "      <th>Balance</th>\n",
       "      <th>HHInsurance</th>\n",
       "      <th>CarLoan</th>\n",
       "      <th>Communication</th>\n",
       "      <th>LastContactDay</th>\n",
       "      <th>LastContactMonth</th>\n",
       "      <th>NoOfContacts</th>\n",
       "      <th>DaysPassed</th>\n",
       "      <th>PrevAttempts</th>\n",
       "      <th>CallStart</th>\n",
       "      <th>CallEnd</th>\n",
       "      <th>CarInsurance</th>\n",
       "    </tr>\n",
       "  </thead>\n",
       "  <tbody>\n",
       "    <tr>\n",
       "      <th>618</th>\n",
       "      <td>619</td>\n",
       "      <td>34</td>\n",
       "      <td>blue-collar</td>\n",
       "      <td>married</td>\n",
       "      <td>secondary</td>\n",
       "      <td>0</td>\n",
       "      <td>320</td>\n",
       "      <td>1</td>\n",
       "      <td>0</td>\n",
       "      <td>cellular</td>\n",
       "      <td>12</td>\n",
       "      <td>aug</td>\n",
       "      <td>1</td>\n",
       "      <td>828</td>\n",
       "      <td>2</td>\n",
       "      <td>13:57:22</td>\n",
       "      <td>14:03:14</td>\n",
       "      <td>1.0</td>\n",
       "    </tr>\n",
       "    <tr>\n",
       "      <th>1958</th>\n",
       "      <td>1959</td>\n",
       "      <td>31</td>\n",
       "      <td>housemaid</td>\n",
       "      <td>married</td>\n",
       "      <td>secondary</td>\n",
       "      <td>0</td>\n",
       "      <td>243</td>\n",
       "      <td>1</td>\n",
       "      <td>0</td>\n",
       "      <td>cellular</td>\n",
       "      <td>23</td>\n",
       "      <td>sep</td>\n",
       "      <td>2</td>\n",
       "      <td>842</td>\n",
       "      <td>1</td>\n",
       "      <td>16:27:00</td>\n",
       "      <td>16:32:05</td>\n",
       "      <td>1.0</td>\n",
       "    </tr>\n",
       "    <tr>\n",
       "      <th>3590</th>\n",
       "      <td>3591</td>\n",
       "      <td>37</td>\n",
       "      <td>management</td>\n",
       "      <td>divorced</td>\n",
       "      <td>tertiary</td>\n",
       "      <td>0</td>\n",
       "      <td>488</td>\n",
       "      <td>1</td>\n",
       "      <td>0</td>\n",
       "      <td>cellular</td>\n",
       "      <td>17</td>\n",
       "      <td>sep</td>\n",
       "      <td>1</td>\n",
       "      <td>854</td>\n",
       "      <td>2</td>\n",
       "      <td>10:43:12</td>\n",
       "      <td>10:48:40</td>\n",
       "      <td>1.0</td>\n",
       "    </tr>\n",
       "  </tbody>\n",
       "</table>\n",
       "</div>"
      ],
      "text/plain": [
       "        Id  Age          Job   Marital  Education  Default  Balance  \\\n",
       "618    619   34  blue-collar   married  secondary        0      320   \n",
       "1958  1959   31    housemaid   married  secondary        0      243   \n",
       "3590  3591   37   management  divorced   tertiary        0      488   \n",
       "\n",
       "      HHInsurance  CarLoan Communication  LastContactDay LastContactMonth  \\\n",
       "618             1        0      cellular              12              aug   \n",
       "1958            1        0      cellular              23              sep   \n",
       "3590            1        0      cellular              17              sep   \n",
       "\n",
       "      NoOfContacts  DaysPassed  PrevAttempts CallStart   CallEnd  CarInsurance  \n",
       "618              1         828             2  13:57:22  14:03:14           1.0  \n",
       "1958             2         842             1  16:27:00  16:32:05           1.0  \n",
       "3590             1         854             2  10:43:12  10:48:40           1.0  "
      ]
     },
     "execution_count": 1120,
     "metadata": {},
     "output_type": "execute_result"
    }
   ],
   "source": [
    "data_final[data_final['DaysPassed']>800]"
   ]
  },
  {
   "cell_type": "code",
   "execution_count": 1121,
   "id": "05133f6c",
   "metadata": {},
   "outputs": [
    {
     "data": {
      "image/png": "[encoded data removed]",
      "text/plain": [
       "<Figure size 432x288 with 1 Axes>"
      ]
     },
     "metadata": {
      "needs_background": "light"
     },
     "output_type": "display_data"
    }
   ],
   "source": [
    "plt.scatter(x=data_final['PrevAttempts'], y=data_final['CarInsurance'])\n",
    "plt.show()"
   ]
  },
  {
   "cell_type": "code",
   "execution_count": 1122,
   "id": "546efdbc",
   "metadata": {},
   "outputs": [
    {
     "data": {
      "text/html": [
       "<div>\n",
       "<style scoped>\n",
       "    .dataframe tbody tr th:only-of-type {\n",
       "        vertical-align: middle;\n",
       "    }\n",
       "\n",
       "    .dataframe tbody tr th {\n",
       "        vertical-align: top;\n",
       "    }\n",
       "\n",
       "    .dataframe thead th {\n",
       "        text-align: right;\n",
       "    }\n",
       "</style>\n",
       "<table border=\"1\" class=\"dataframe\">\n",
       "  <thead>\n",
       "    <tr style=\"text-align: right;\">\n",
       "      <th></th>\n",
       "      <th>Id</th>\n",
       "      <th>Age</th>\n",
       "      <th>Job</th>\n",
       "      <th>Marital</th>\n",
       "      <th>Education</th>\n",
       "      <th>Default</th>\n",
       "      <th>Balance</th>\n",
       "      <th>HHInsurance</th>\n",
       "      <th>CarLoan</th>\n",
       "      <th>Communication</th>\n",
       "      <th>LastContactDay</th>\n",
       "      <th>LastContactMonth</th>\n",
       "      <th>NoOfContacts</th>\n",
       "      <th>DaysPassed</th>\n",
       "      <th>PrevAttempts</th>\n",
       "      <th>CallStart</th>\n",
       "      <th>CallEnd</th>\n",
       "      <th>CarInsurance</th>\n",
       "    </tr>\n",
       "  </thead>\n",
       "  <tbody>\n",
       "    <tr>\n",
       "      <th>2354</th>\n",
       "      <td>2355</td>\n",
       "      <td>46</td>\n",
       "      <td>blue-collar</td>\n",
       "      <td>married</td>\n",
       "      <td>primary</td>\n",
       "      <td>0</td>\n",
       "      <td>1085</td>\n",
       "      <td>1</td>\n",
       "      <td>1</td>\n",
       "      <td>cellular</td>\n",
       "      <td>15</td>\n",
       "      <td>may</td>\n",
       "      <td>2</td>\n",
       "      <td>353</td>\n",
       "      <td>58</td>\n",
       "      <td>15:05:29</td>\n",
       "      <td>15:14:12</td>\n",
       "      <td>1.0</td>\n",
       "    </tr>\n",
       "  </tbody>\n",
       "</table>\n",
       "</div>"
      ],
      "text/plain": [
       "        Id  Age          Job  Marital Education  Default  Balance  \\\n",
       "2354  2355   46  blue-collar  married   primary        0     1085   \n",
       "\n",
       "      HHInsurance  CarLoan Communication  LastContactDay LastContactMonth  \\\n",
       "2354            1        1      cellular              15              may   \n",
       "\n",
       "      NoOfContacts  DaysPassed  PrevAttempts CallStart   CallEnd  CarInsurance  \n",
       "2354             2         353            58  15:05:29  15:14:12           1.0  "
      ]
     },
     "execution_count": 1122,
     "metadata": {},
     "output_type": "execute_result"
    }
   ],
   "source": [
    "data_final[data_final['PrevAttempts']>30]"
   ]
  },
  {
   "cell_type": "code",
   "execution_count": 1123,
   "id": "6b3d6088",
   "metadata": {},
   "outputs": [],
   "source": [
    "data_final.drop(index=[2354], inplace=True)"
   ]
  },
  {
   "cell_type": "code",
   "execution_count": 1124,
   "id": "a8fd94f3",
   "metadata": {},
   "outputs": [
    {
     "data": {
      "image/png": "[encoded data removed]",
      "text/plain": [
       "<Figure size 432x288 with 1 Axes>"
      ]
     },
     "metadata": {
      "needs_background": "light"
     },
     "output_type": "display_data"
    }
   ],
   "source": [
    "plt.scatter(x=data_final['Balance'], y=data_final['CarInsurance'])\n",
    "plt.show()"
   ]
  },
  {
   "cell_type": "code",
   "execution_count": 1125,
   "id": "7baefe8a",
   "metadata": {},
   "outputs": [
    {
     "data": {
      "text/html": [
       "<div>\n",
       "<style scoped>\n",
       "    .dataframe tbody tr th:only-of-type {\n",
       "        vertical-align: middle;\n",
       "    }\n",
       "\n",
       "    .dataframe tbody tr th {\n",
       "        vertical-align: top;\n",
       "    }\n",
       "\n",
       "    .dataframe thead th {\n",
       "        text-align: right;\n",
       "    }\n",
       "</style>\n",
       "<table border=\"1\" class=\"dataframe\">\n",
       "  <thead>\n",
       "    <tr style=\"text-align: right;\">\n",
       "      <th></th>\n",
       "      <th>Id</th>\n",
       "      <th>Age</th>\n",
       "      <th>Job</th>\n",
       "      <th>Marital</th>\n",
       "      <th>Education</th>\n",
       "      <th>Default</th>\n",
       "      <th>Balance</th>\n",
       "      <th>HHInsurance</th>\n",
       "      <th>CarLoan</th>\n",
       "      <th>Communication</th>\n",
       "      <th>LastContactDay</th>\n",
       "      <th>LastContactMonth</th>\n",
       "      <th>NoOfContacts</th>\n",
       "      <th>DaysPassed</th>\n",
       "      <th>PrevAttempts</th>\n",
       "      <th>CallStart</th>\n",
       "      <th>CallEnd</th>\n",
       "      <th>CarInsurance</th>\n",
       "    </tr>\n",
       "  </thead>\n",
       "  <tbody>\n",
       "    <tr>\n",
       "      <th>1742</th>\n",
       "      <td>1743</td>\n",
       "      <td>59</td>\n",
       "      <td>management</td>\n",
       "      <td>married</td>\n",
       "      <td>tertiary</td>\n",
       "      <td>0</td>\n",
       "      <td>98417</td>\n",
       "      <td>0</td>\n",
       "      <td>0</td>\n",
       "      <td>telephone</td>\n",
       "      <td>20</td>\n",
       "      <td>nov</td>\n",
       "      <td>5</td>\n",
       "      <td>-1</td>\n",
       "      <td>0</td>\n",
       "      <td>10:51:42</td>\n",
       "      <td>10:54:07</td>\n",
       "      <td>0.0</td>\n",
       "    </tr>\n",
       "  </tbody>\n",
       "</table>\n",
       "</div>"
      ],
      "text/plain": [
       "        Id  Age         Job  Marital Education  Default  Balance  HHInsurance  \\\n",
       "1742  1743   59  management  married  tertiary        0    98417            0   \n",
       "\n",
       "      CarLoan Communication  LastContactDay LastContactMonth  NoOfContacts  \\\n",
       "1742        0     telephone              20              nov             5   \n",
       "\n",
       "      DaysPassed  PrevAttempts CallStart   CallEnd  CarInsurance  \n",
       "1742          -1             0  10:51:42  10:54:07           0.0  "
      ]
     },
     "execution_count": 1125,
     "metadata": {},
     "output_type": "execute_result"
    }
   ],
   "source": [
    "data_final[data_final['Balance']>80000]"
   ]
  },
  {
   "cell_type": "code",
   "execution_count": 1126,
   "id": "067f7e09",
   "metadata": {},
   "outputs": [],
   "source": [
    "data_final.drop(index=[1742], inplace=True)"
   ]
  },
  {
   "cell_type": "code",
   "execution_count": 1127,
   "id": "3a2e9335",
   "metadata": {},
   "outputs": [
    {
     "data": {
      "image/png": "[encoded data removed]",
      "text/plain": [
       "<Figure size 720x504 with 1 Axes>"
      ]
     },
     "metadata": {
      "needs_background": "light"
     },
     "output_type": "display_data"
    }
   ],
   "source": [
    "plt.figure(figsize=(10,7))\n",
    "plt.subplot(2,1,1)\n",
    "sns.boxplot(data_final['Balance'])\n",
    "plt.show()"
   ]
  },
  {
   "cell_type": "code",
   "execution_count": 1128,
   "id": "fcf5ad19",
   "metadata": {},
   "outputs": [
    {
     "data": {
      "text/html": [
       "<div>\n",
       "<style scoped>\n",
       "    .dataframe tbody tr th:only-of-type {\n",
       "        vertical-align: middle;\n",
       "    }\n",
       "\n",
       "    .dataframe tbody tr th {\n",
       "        vertical-align: top;\n",
       "    }\n",
       "\n",
       "    .dataframe thead th {\n",
       "        text-align: right;\n",
       "    }\n",
       "</style>\n",
       "<table border=\"1\" class=\"dataframe\">\n",
       "  <thead>\n",
       "    <tr style=\"text-align: right;\">\n",
       "      <th></th>\n",
       "      <th>Id</th>\n",
       "      <th>Age</th>\n",
       "      <th>Job</th>\n",
       "      <th>Marital</th>\n",
       "      <th>Education</th>\n",
       "      <th>Default</th>\n",
       "      <th>Balance</th>\n",
       "      <th>HHInsurance</th>\n",
       "      <th>CarLoan</th>\n",
       "      <th>Communication</th>\n",
       "      <th>LastContactDay</th>\n",
       "      <th>LastContactMonth</th>\n",
       "      <th>NoOfContacts</th>\n",
       "      <th>DaysPassed</th>\n",
       "      <th>PrevAttempts</th>\n",
       "      <th>CallStart</th>\n",
       "      <th>CallEnd</th>\n",
       "      <th>CarInsurance</th>\n",
       "    </tr>\n",
       "  </thead>\n",
       "  <tbody>\n",
       "    <tr>\n",
       "      <th>0</th>\n",
       "      <td>1</td>\n",
       "      <td>32</td>\n",
       "      <td>management</td>\n",
       "      <td>single</td>\n",
       "      <td>tertiary</td>\n",
       "      <td>0</td>\n",
       "      <td>1218</td>\n",
       "      <td>1</td>\n",
       "      <td>0</td>\n",
       "      <td>telephone</td>\n",
       "      <td>28</td>\n",
       "      <td>jan</td>\n",
       "      <td>2</td>\n",
       "      <td>-1</td>\n",
       "      <td>0</td>\n",
       "      <td>13:45:20</td>\n",
       "      <td>13:46:30</td>\n",
       "      <td>0.0</td>\n",
       "    </tr>\n",
       "    <tr>\n",
       "      <th>1</th>\n",
       "      <td>2</td>\n",
       "      <td>32</td>\n",
       "      <td>blue-collar</td>\n",
       "      <td>married</td>\n",
       "      <td>primary</td>\n",
       "      <td>0</td>\n",
       "      <td>1156</td>\n",
       "      <td>1</td>\n",
       "      <td>0</td>\n",
       "      <td>cellular</td>\n",
       "      <td>26</td>\n",
       "      <td>may</td>\n",
       "      <td>5</td>\n",
       "      <td>-1</td>\n",
       "      <td>0</td>\n",
       "      <td>14:49:03</td>\n",
       "      <td>14:52:08</td>\n",
       "      <td>0.0</td>\n",
       "    </tr>\n",
       "    <tr>\n",
       "      <th>2</th>\n",
       "      <td>3</td>\n",
       "      <td>29</td>\n",
       "      <td>management</td>\n",
       "      <td>single</td>\n",
       "      <td>tertiary</td>\n",
       "      <td>0</td>\n",
       "      <td>637</td>\n",
       "      <td>1</td>\n",
       "      <td>0</td>\n",
       "      <td>cellular</td>\n",
       "      <td>3</td>\n",
       "      <td>jun</td>\n",
       "      <td>1</td>\n",
       "      <td>119</td>\n",
       "      <td>1</td>\n",
       "      <td>16:30:24</td>\n",
       "      <td>16:36:04</td>\n",
       "      <td>1.0</td>\n",
       "    </tr>\n",
       "    <tr>\n",
       "      <th>3</th>\n",
       "      <td>4</td>\n",
       "      <td>25</td>\n",
       "      <td>student</td>\n",
       "      <td>single</td>\n",
       "      <td>primary</td>\n",
       "      <td>0</td>\n",
       "      <td>373</td>\n",
       "      <td>1</td>\n",
       "      <td>0</td>\n",
       "      <td>cellular</td>\n",
       "      <td>11</td>\n",
       "      <td>may</td>\n",
       "      <td>2</td>\n",
       "      <td>-1</td>\n",
       "      <td>0</td>\n",
       "      <td>12:06:43</td>\n",
       "      <td>12:20:22</td>\n",
       "      <td>1.0</td>\n",
       "    </tr>\n",
       "    <tr>\n",
       "      <th>4</th>\n",
       "      <td>5</td>\n",
       "      <td>30</td>\n",
       "      <td>management</td>\n",
       "      <td>married</td>\n",
       "      <td>tertiary</td>\n",
       "      <td>0</td>\n",
       "      <td>2694</td>\n",
       "      <td>0</td>\n",
       "      <td>0</td>\n",
       "      <td>cellular</td>\n",
       "      <td>3</td>\n",
       "      <td>jun</td>\n",
       "      <td>1</td>\n",
       "      <td>-1</td>\n",
       "      <td>0</td>\n",
       "      <td>14:35:44</td>\n",
       "      <td>14:38:56</td>\n",
       "      <td>0.0</td>\n",
       "    </tr>\n",
       "  </tbody>\n",
       "</table>\n",
       "</div>"
      ],
      "text/plain": [
       "   Id  Age          Job  Marital Education  Default  Balance  HHInsurance  \\\n",
       "0   1   32   management   single  tertiary        0     1218            1   \n",
       "1   2   32  blue-collar  married   primary        0     1156            1   \n",
       "2   3   29   management   single  tertiary        0      637            1   \n",
       "3   4   25      student   single   primary        0      373            1   \n",
       "4   5   30   management  married  tertiary        0     2694            0   \n",
       "\n",
       "   CarLoan Communication  LastContactDay LastContactMonth  NoOfContacts  \\\n",
       "0        0     telephone              28              jan             2   \n",
       "1        0      cellular              26              may             5   \n",
       "2        0      cellular               3              jun             1   \n",
       "3        0      cellular              11              may             2   \n",
       "4        0      cellular               3              jun             1   \n",
       "\n",
       "   DaysPassed  PrevAttempts CallStart   CallEnd  CarInsurance  \n",
       "0          -1             0  13:45:20  13:46:30           0.0  \n",
       "1          -1             0  14:49:03  14:52:08           0.0  \n",
       "2         119             1  16:30:24  16:36:04           1.0  \n",
       "3          -1             0  12:06:43  12:20:22           1.0  \n",
       "4          -1             0  14:35:44  14:38:56           0.0  "
      ]
     },
     "execution_count": 1128,
     "metadata": {},
     "output_type": "execute_result"
    }
   ],
   "source": [
    "data_final.head()"
   ]
  },
  {
   "cell_type": "code",
   "execution_count": 1129,
   "id": "bf12440d",
   "metadata": {},
   "outputs": [
    {
     "data": {
      "image/png": "[encoded data removed]",
      "text/plain": [
       "<Figure size 720x504 with 2 Axes>"
      ]
     },
     "metadata": {
      "needs_background": "light"
     },
     "output_type": "display_data"
    }
   ],
   "source": [
    "plt.figure(figsize=(10,7))\n",
    "sns.heatmap(data_final.corr(), annot=True, vmax=1, vmin=-1, cmap='RdBu')\n",
    "plt.show()"
   ]
  },
  {
   "cell_type": "markdown",
   "id": "8acd9f78",
   "metadata": {},
   "source": [
    "## Feature Selection"
   ]
  },
  {
   "cell_type": "code",
   "execution_count": 1130,
   "id": "5dbd20b5",
   "metadata": {},
   "outputs": [],
   "source": [
    "data_final.drop(columns=['Id','Default','CallStart','CallEnd'], inplace=True)"
   ]
  },
  {
   "cell_type": "code",
   "execution_count": 1131,
   "id": "52e7b9d0",
   "metadata": {},
   "outputs": [],
   "source": [
    "data_test.drop(columns=['Id','Default','CallStart','CallEnd'], inplace=True)"
   ]
  },
  {
   "cell_type": "code",
   "execution_count": 1132,
   "id": "db80f6b4",
   "metadata": {},
   "outputs": [],
   "source": [
    "data_train.drop(columns=['Id','Default','CallStart','CallEnd'], inplace=True)"
   ]
  },
  {
   "cell_type": "code",
   "execution_count": 1133,
   "id": "de30dc39",
   "metadata": {},
   "outputs": [
    {
     "data": {
      "text/html": [
       "<div>\n",
       "<style scoped>\n",
       "    .dataframe tbody tr th:only-of-type {\n",
       "        vertical-align: middle;\n",
       "    }\n",
       "\n",
       "    .dataframe tbody tr th {\n",
       "        vertical-align: top;\n",
       "    }\n",
       "\n",
       "    .dataframe thead th {\n",
       "        text-align: right;\n",
       "    }\n",
       "</style>\n",
       "<table border=\"1\" class=\"dataframe\">\n",
       "  <thead>\n",
       "    <tr style=\"text-align: right;\">\n",
       "      <th></th>\n",
       "      <th>Age</th>\n",
       "      <th>Job</th>\n",
       "      <th>Marital</th>\n",
       "      <th>Education</th>\n",
       "      <th>Balance</th>\n",
       "      <th>HHInsurance</th>\n",
       "      <th>CarLoan</th>\n",
       "      <th>Communication</th>\n",
       "      <th>LastContactDay</th>\n",
       "      <th>LastContactMonth</th>\n",
       "      <th>NoOfContacts</th>\n",
       "      <th>DaysPassed</th>\n",
       "      <th>PrevAttempts</th>\n",
       "      <th>CarInsurance</th>\n",
       "    </tr>\n",
       "  </thead>\n",
       "  <tbody>\n",
       "    <tr>\n",
       "      <th>0</th>\n",
       "      <td>32</td>\n",
       "      <td>management</td>\n",
       "      <td>single</td>\n",
       "      <td>tertiary</td>\n",
       "      <td>1218</td>\n",
       "      <td>1</td>\n",
       "      <td>0</td>\n",
       "      <td>telephone</td>\n",
       "      <td>28</td>\n",
       "      <td>jan</td>\n",
       "      <td>2</td>\n",
       "      <td>-1</td>\n",
       "      <td>0</td>\n",
       "      <td>0.0</td>\n",
       "    </tr>\n",
       "    <tr>\n",
       "      <th>1</th>\n",
       "      <td>32</td>\n",
       "      <td>blue-collar</td>\n",
       "      <td>married</td>\n",
       "      <td>primary</td>\n",
       "      <td>1156</td>\n",
       "      <td>1</td>\n",
       "      <td>0</td>\n",
       "      <td>cellular</td>\n",
       "      <td>26</td>\n",
       "      <td>may</td>\n",
       "      <td>5</td>\n",
       "      <td>-1</td>\n",
       "      <td>0</td>\n",
       "      <td>0.0</td>\n",
       "    </tr>\n",
       "    <tr>\n",
       "      <th>2</th>\n",
       "      <td>29</td>\n",
       "      <td>management</td>\n",
       "      <td>single</td>\n",
       "      <td>tertiary</td>\n",
       "      <td>637</td>\n",
       "      <td>1</td>\n",
       "      <td>0</td>\n",
       "      <td>cellular</td>\n",
       "      <td>3</td>\n",
       "      <td>jun</td>\n",
       "      <td>1</td>\n",
       "      <td>119</td>\n",
       "      <td>1</td>\n",
       "      <td>1.0</td>\n",
       "    </tr>\n",
       "    <tr>\n",
       "      <th>3</th>\n",
       "      <td>25</td>\n",
       "      <td>student</td>\n",
       "      <td>single</td>\n",
       "      <td>primary</td>\n",
       "      <td>373</td>\n",
       "      <td>1</td>\n",
       "      <td>0</td>\n",
       "      <td>cellular</td>\n",
       "      <td>11</td>\n",
       "      <td>may</td>\n",
       "      <td>2</td>\n",
       "      <td>-1</td>\n",
       "      <td>0</td>\n",
       "      <td>1.0</td>\n",
       "    </tr>\n",
       "    <tr>\n",
       "      <th>4</th>\n",
       "      <td>30</td>\n",
       "      <td>management</td>\n",
       "      <td>married</td>\n",
       "      <td>tertiary</td>\n",
       "      <td>2694</td>\n",
       "      <td>0</td>\n",
       "      <td>0</td>\n",
       "      <td>cellular</td>\n",
       "      <td>3</td>\n",
       "      <td>jun</td>\n",
       "      <td>1</td>\n",
       "      <td>-1</td>\n",
       "      <td>0</td>\n",
       "      <td>0.0</td>\n",
       "    </tr>\n",
       "  </tbody>\n",
       "</table>\n",
       "</div>"
      ],
      "text/plain": [
       "   Age          Job  Marital Education  Balance  HHInsurance  CarLoan  \\\n",
       "0   32   management   single  tertiary     1218            1        0   \n",
       "1   32  blue-collar  married   primary     1156            1        0   \n",
       "2   29   management   single  tertiary      637            1        0   \n",
       "3   25      student   single   primary      373            1        0   \n",
       "4   30   management  married  tertiary     2694            0        0   \n",
       "\n",
       "  Communication  LastContactDay LastContactMonth  NoOfContacts  DaysPassed  \\\n",
       "0     telephone              28              jan             2          -1   \n",
       "1      cellular              26              may             5          -1   \n",
       "2      cellular               3              jun             1         119   \n",
       "3      cellular              11              may             2          -1   \n",
       "4      cellular               3              jun             1          -1   \n",
       "\n",
       "   PrevAttempts  CarInsurance  \n",
       "0             0           0.0  \n",
       "1             0           0.0  \n",
       "2             1           1.0  \n",
       "3             0           1.0  \n",
       "4             0           0.0  "
      ]
     },
     "execution_count": 1133,
     "metadata": {},
     "output_type": "execute_result"
    }
   ],
   "source": [
    "data_final.head()"
   ]
  },
  {
   "cell_type": "markdown",
   "id": "c2f3f218",
   "metadata": {},
   "source": [
    "## Feature Engineering"
   ]
  },
  {
   "cell_type": "code",
   "execution_count": 1134,
   "id": "9c078e89",
   "metadata": {},
   "outputs": [],
   "source": [
    "from sklearn.preprocessing import LabelEncoder\n",
    "le = LabelEncoder()"
   ]
  },
  {
   "cell_type": "code",
   "execution_count": 1135,
   "id": "a533c2c2",
   "metadata": {},
   "outputs": [],
   "source": [
    "data_final['NoOfContacts']=le.fit_transform(data_final['NoOfContacts'])"
   ]
  },
  {
   "cell_type": "code",
   "execution_count": 1136,
   "id": "6c003111",
   "metadata": {},
   "outputs": [],
   "source": [
    "data_final['Job']=le.fit_transform(data_final['Job']) "
   ]
  },
  {
   "cell_type": "code",
   "execution_count": 1145,
   "id": "3923bc41",
   "metadata": {},
   "outputs": [],
   "source": [
    "data_final['Marital']=le.fit_transform(data_final['Marital'])"
   ]
  },
  {
   "cell_type": "code",
   "execution_count": 1146,
   "id": "f9daad7c",
   "metadata": {},
   "outputs": [],
   "source": [
    "data_final['Education']=le.fit_transform(data_final['Education'])"
   ]
  },
  {
   "cell_type": "code",
   "execution_count": 1147,
   "id": "155a1342",
   "metadata": {},
   "outputs": [],
   "source": [
    "data_final['Communication']=le.fit_transform(data_final['Communication'])"
   ]
  },
  {
   "cell_type": "code",
   "execution_count": 1149,
   "id": "547529a3",
   "metadata": {},
   "outputs": [],
   "source": [
    "data_train['CarInsurance']=le.fit_transform(data_train['CarInsurance'])"
   ]
  },
  {
   "cell_type": "code",
   "execution_count": 1159,
   "id": "dd000210",
   "metadata": {},
   "outputs": [],
   "source": [
    "from sklearn.preprocessing import LabelEncoder\n",
    "le = LabelEncoder()\n",
    "for col in ['Marital','Education','Communication','LastContactMonth','Job' ]:\n",
    "    data_train[col] = le.fit_transform(data_train[col])\n",
    "from sklearn.preprocessing import LabelEncoder\n",
    "le = LabelEncoder()\n",
    "for col in ['Marital','Education','Communication','LastContactMonth','Job']:\n",
    "    data_test[col] = le.fit_transform(data_test[col])\n",
    "le = LabelEncoder()\n",
    "for col in ['Marital','Education','Communication','LastContactMonth','Job']:\n",
    "    data_final[col] = le.fit_transform(data_final[col]) "
   ]
  },
  {
   "cell_type": "code",
   "execution_count": 1160,
   "id": "f9c135b1",
   "metadata": {},
   "outputs": [
    {
     "data": {
      "text/html": [
       "<div>\n",
       "<style scoped>\n",
       "    .dataframe tbody tr th:only-of-type {\n",
       "        vertical-align: middle;\n",
       "    }\n",
       "\n",
       "    .dataframe tbody tr th {\n",
       "        vertical-align: top;\n",
       "    }\n",
       "\n",
       "    .dataframe thead th {\n",
       "        text-align: right;\n",
       "    }\n",
       "</style>\n",
       "<table border=\"1\" class=\"dataframe\">\n",
       "  <thead>\n",
       "    <tr style=\"text-align: right;\">\n",
       "      <th></th>\n",
       "      <th>Age</th>\n",
       "      <th>Job</th>\n",
       "      <th>Marital</th>\n",
       "      <th>Education</th>\n",
       "      <th>Balance</th>\n",
       "      <th>HHInsurance</th>\n",
       "      <th>CarLoan</th>\n",
       "      <th>Communication</th>\n",
       "      <th>LastContactDay</th>\n",
       "      <th>LastContactMonth</th>\n",
       "      <th>NoOfContacts</th>\n",
       "      <th>DaysPassed</th>\n",
       "      <th>PrevAttempts</th>\n",
       "      <th>CarInsurance</th>\n",
       "    </tr>\n",
       "  </thead>\n",
       "  <tbody>\n",
       "    <tr>\n",
       "      <th>0</th>\n",
       "      <td>25</td>\n",
       "      <td>0</td>\n",
       "      <td>2</td>\n",
       "      <td>1</td>\n",
       "      <td>1</td>\n",
       "      <td>1</td>\n",
       "      <td>1</td>\n",
       "      <td>2</td>\n",
       "      <td>12</td>\n",
       "      <td>8</td>\n",
       "      <td>12</td>\n",
       "      <td>-1</td>\n",
       "      <td>0</td>\n",
       "      <td>NaN</td>\n",
       "    </tr>\n",
       "    <tr>\n",
       "      <th>1</th>\n",
       "      <td>40</td>\n",
       "      <td>4</td>\n",
       "      <td>1</td>\n",
       "      <td>2</td>\n",
       "      <td>0</td>\n",
       "      <td>1</td>\n",
       "      <td>1</td>\n",
       "      <td>0</td>\n",
       "      <td>24</td>\n",
       "      <td>5</td>\n",
       "      <td>1</td>\n",
       "      <td>-1</td>\n",
       "      <td>0</td>\n",
       "      <td>NaN</td>\n",
       "    </tr>\n",
       "    <tr>\n",
       "      <th>2</th>\n",
       "      <td>44</td>\n",
       "      <td>4</td>\n",
       "      <td>2</td>\n",
       "      <td>2</td>\n",
       "      <td>-1313</td>\n",
       "      <td>1</td>\n",
       "      <td>1</td>\n",
       "      <td>0</td>\n",
       "      <td>15</td>\n",
       "      <td>8</td>\n",
       "      <td>10</td>\n",
       "      <td>-1</td>\n",
       "      <td>0</td>\n",
       "      <td>NaN</td>\n",
       "    </tr>\n",
       "    <tr>\n",
       "      <th>3</th>\n",
       "      <td>27</td>\n",
       "      <td>7</td>\n",
       "      <td>2</td>\n",
       "      <td>1</td>\n",
       "      <td>6279</td>\n",
       "      <td>1</td>\n",
       "      <td>0</td>\n",
       "      <td>0</td>\n",
       "      <td>9</td>\n",
       "      <td>9</td>\n",
       "      <td>1</td>\n",
       "      <td>-1</td>\n",
       "      <td>0</td>\n",
       "      <td>NaN</td>\n",
       "    </tr>\n",
       "    <tr>\n",
       "      <th>4</th>\n",
       "      <td>53</td>\n",
       "      <td>9</td>\n",
       "      <td>1</td>\n",
       "      <td>1</td>\n",
       "      <td>7984</td>\n",
       "      <td>1</td>\n",
       "      <td>0</td>\n",
       "      <td>0</td>\n",
       "      <td>2</td>\n",
       "      <td>3</td>\n",
       "      <td>1</td>\n",
       "      <td>-1</td>\n",
       "      <td>0</td>\n",
       "      <td>NaN</td>\n",
       "    </tr>\n",
       "  </tbody>\n",
       "</table>\n",
       "</div>"
      ],
      "text/plain": [
       "   Age  Job  Marital  Education  Balance  HHInsurance  CarLoan  Communication  \\\n",
       "0   25    0        2          1        1            1        1              2   \n",
       "1   40    4        1          2        0            1        1              0   \n",
       "2   44    4        2          2    -1313            1        1              0   \n",
       "3   27    7        2          1     6279            1        0              0   \n",
       "4   53    9        1          1     7984            1        0              0   \n",
       "\n",
       "   LastContactDay  LastContactMonth  NoOfContacts  DaysPassed  PrevAttempts  \\\n",
       "0              12                 8            12          -1             0   \n",
       "1              24                 5             1          -1             0   \n",
       "2              15                 8            10          -1             0   \n",
       "3               9                 9             1          -1             0   \n",
       "4               2                 3             1          -1             0   \n",
       "\n",
       "   CarInsurance  \n",
       "0           NaN  \n",
       "1           NaN  \n",
       "2           NaN  \n",
       "3           NaN  \n",
       "4           NaN  "
      ]
     },
     "execution_count": 1160,
     "metadata": {},
     "output_type": "execute_result"
    }
   ],
   "source": [
    "data_test.head()"
   ]
  },
  {
   "cell_type": "code",
   "execution_count": 1161,
   "id": "f7c92ebb",
   "metadata": {},
   "outputs": [
    {
     "data": {
      "text/plain": [
       "Age                   int64\n",
       "Job                   int64\n",
       "Marital               int64\n",
       "Education             int64\n",
       "Balance               int64\n",
       "HHInsurance           int64\n",
       "CarLoan               int64\n",
       "Communication         int64\n",
       "LastContactDay        int64\n",
       "LastContactMonth      int64\n",
       "NoOfContacts          int64\n",
       "DaysPassed            int64\n",
       "PrevAttempts          int64\n",
       "CarInsurance        float64\n",
       "dtype: object"
      ]
     },
     "execution_count": 1161,
     "metadata": {},
     "output_type": "execute_result"
    }
   ],
   "source": [
    "data_test.dtypes"
   ]
  },
  {
   "cell_type": "code",
   "execution_count": 1162,
   "id": "1e19fd60",
   "metadata": {},
   "outputs": [
    {
     "data": {
      "text/plain": [
       "Age                   int64\n",
       "Job                   int64\n",
       "Marital               int64\n",
       "Education             int64\n",
       "Balance               int64\n",
       "HHInsurance           int64\n",
       "CarLoan               int64\n",
       "Communication         int64\n",
       "LastContactDay        int64\n",
       "LastContactMonth      int32\n",
       "NoOfContacts          int64\n",
       "DaysPassed            int64\n",
       "PrevAttempts          int64\n",
       "CarInsurance        float64\n",
       "dtype: object"
      ]
     },
     "execution_count": 1162,
     "metadata": {},
     "output_type": "execute_result"
    }
   ],
   "source": [
    "data_final.dtypes"
   ]
  },
  {
   "cell_type": "markdown",
   "id": "9d12b4c3",
   "metadata": {},
   "source": [
    "# Train Test Split"
   ]
  },
  {
   "cell_type": "code",
   "execution_count": 1163,
   "id": "6b776c41",
   "metadata": {},
   "outputs": [],
   "source": [
    "x = data_train.drop(columns=['CarInsurance'])\n",
    "y = data_train['CarInsurance']"
   ]
  },
  {
   "cell_type": "code",
   "execution_count": 1164,
   "id": "376138ab",
   "metadata": {},
   "outputs": [],
   "source": [
    "from sklearn.model_selection import train_test_split"
   ]
  },
  {
   "cell_type": "code",
   "execution_count": 1165,
   "id": "a26404f6",
   "metadata": {},
   "outputs": [],
   "source": [
    "x_train, x_test, y_train, y_test = train_test_split(x,y, stratify=y,train_size=0.9, random_state=2)"
   ]
  },
  {
   "cell_type": "code",
   "execution_count": 1173,
   "id": "4d273b5e",
   "metadata": {},
   "outputs": [
    {
     "name": "stdout",
     "output_type": "stream",
     "text": [
      "(3600, 13) (400, 13) (3600,) (400,)\n"
     ]
    }
   ],
   "source": [
    "print(x_train.shape, x_test.shape, y_train.shape, y_test.shape)"
   ]
  },
  {
   "cell_type": "markdown",
   "id": "f916ff1d",
   "metadata": {},
   "source": [
    "# Logistic Rregression Model"
   ]
  },
  {
   "cell_type": "code",
   "execution_count": 1168,
   "id": "954b2403",
   "metadata": {},
   "outputs": [],
   "source": [
    "from sklearn.linear_model import LogisticRegression"
   ]
  },
  {
   "cell_type": "code",
   "execution_count": 1169,
   "id": "8e4758bd",
   "metadata": {},
   "outputs": [],
   "source": [
    "model_lr= LogisticRegression()"
   ]
  },
  {
   "cell_type": "code",
   "execution_count": 1170,
   "id": "521f7c66",
   "metadata": {},
   "outputs": [
    {
     "data": {
      "text/plain": [
       "LogisticRegression()"
      ]
     },
     "execution_count": 1170,
     "metadata": {},
     "output_type": "execute_result"
    }
   ],
   "source": [
    "model_lr.fit(x_train,y_train)"
   ]
  },
  {
   "cell_type": "code",
   "execution_count": 1171,
   "id": "e39023eb",
   "metadata": {},
   "outputs": [],
   "source": [
    "y_pred = model_lr.predict(x_test)"
   ]
  },
  {
   "cell_type": "code",
   "execution_count": 1172,
   "id": "4cfa47e6",
   "metadata": {},
   "outputs": [
    {
     "data": {
      "text/html": [
       "<div>\n",
       "<style scoped>\n",
       "    .dataframe tbody tr th:only-of-type {\n",
       "        vertical-align: middle;\n",
       "    }\n",
       "\n",
       "    .dataframe tbody tr th {\n",
       "        vertical-align: top;\n",
       "    }\n",
       "\n",
       "    .dataframe thead th {\n",
       "        text-align: right;\n",
       "    }\n",
       "</style>\n",
       "<table border=\"1\" class=\"dataframe\">\n",
       "  <thead>\n",
       "    <tr style=\"text-align: right;\">\n",
       "      <th></th>\n",
       "      <th>Actual</th>\n",
       "      <th>Predicted</th>\n",
       "    </tr>\n",
       "  </thead>\n",
       "  <tbody>\n",
       "    <tr>\n",
       "      <th>1812</th>\n",
       "      <td>0</td>\n",
       "      <td>0</td>\n",
       "    </tr>\n",
       "    <tr>\n",
       "      <th>2560</th>\n",
       "      <td>0</td>\n",
       "      <td>0</td>\n",
       "    </tr>\n",
       "    <tr>\n",
       "      <th>960</th>\n",
       "      <td>0</td>\n",
       "      <td>0</td>\n",
       "    </tr>\n",
       "    <tr>\n",
       "      <th>3084</th>\n",
       "      <td>1</td>\n",
       "      <td>0</td>\n",
       "    </tr>\n",
       "    <tr>\n",
       "      <th>2809</th>\n",
       "      <td>0</td>\n",
       "      <td>0</td>\n",
       "    </tr>\n",
       "    <tr>\n",
       "      <th>...</th>\n",
       "      <td>...</td>\n",
       "      <td>...</td>\n",
       "    </tr>\n",
       "    <tr>\n",
       "      <th>3009</th>\n",
       "      <td>0</td>\n",
       "      <td>0</td>\n",
       "    </tr>\n",
       "    <tr>\n",
       "      <th>2229</th>\n",
       "      <td>0</td>\n",
       "      <td>0</td>\n",
       "    </tr>\n",
       "    <tr>\n",
       "      <th>1479</th>\n",
       "      <td>0</td>\n",
       "      <td>0</td>\n",
       "    </tr>\n",
       "    <tr>\n",
       "      <th>2963</th>\n",
       "      <td>0</td>\n",
       "      <td>0</td>\n",
       "    </tr>\n",
       "    <tr>\n",
       "      <th>2478</th>\n",
       "      <td>0</td>\n",
       "      <td>0</td>\n",
       "    </tr>\n",
       "  </tbody>\n",
       "</table>\n",
       "<p>400 rows × 2 columns</p>\n",
       "</div>"
      ],
      "text/plain": [
       "      Actual  Predicted\n",
       "1812       0          0\n",
       "2560       0          0\n",
       "960        0          0\n",
       "3084       1          0\n",
       "2809       0          0\n",
       "...      ...        ...\n",
       "3009       0          0\n",
       "2229       0          0\n",
       "1479       0          0\n",
       "2963       0          0\n",
       "2478       0          0\n",
       "\n",
       "[400 rows x 2 columns]"
      ]
     },
     "execution_count": 1172,
     "metadata": {},
     "output_type": "execute_result"
    }
   ],
   "source": [
    "pd.DataFrame({\"Actual\":y_test,'Predicted':y_pred})"
   ]
  },
  {
   "cell_type": "code",
   "execution_count": 1174,
   "id": "900c4a7d",
   "metadata": {},
   "outputs": [],
   "source": [
    "y_pred_soft = model_lr.predict_proba(x_test)"
   ]
  },
  {
   "cell_type": "code",
   "execution_count": 1175,
   "id": "5c8cc421",
   "metadata": {},
   "outputs": [
    {
     "data": {
      "text/plain": [
       "array([0.06765736, 0.22055065, 0.45550904, 0.46907414, 0.28694751,\n",
       "       0.439172  , 0.45681817, 0.3507813 , 0.42690016, 0.47984997,\n",
       "       0.55395104, 0.52370504, 0.07126668, 0.42962842, 0.31136558,\n",
       "       0.30625593, 0.30319279, 0.31204297, 0.48162316, 0.47115744,\n",
       "       0.29595814, 0.58268047, 0.47971342, 0.35144943, 0.46327779,\n",
       "       0.27484513, 0.78200401, 0.58758714, 0.34501213, 0.56706621,\n",
       "       0.23243525, 0.44290178, 0.39756365, 0.38861126, 0.43212807,\n",
       "       0.4668838 , 0.3787837 , 0.40755855, 0.55357619, 0.57100675,\n",
       "       0.47636748, 0.37454838, 0.07171093, 0.30492549, 0.49644156,\n",
       "       0.54367384, 0.29723355, 0.63343175, 0.40260131, 0.4860237 ,\n",
       "       0.46453472, 0.2904334 , 0.43181486, 0.53062596, 0.51592113,\n",
       "       0.48406275, 0.39412649, 0.49633192, 0.48959066, 0.39618955,\n",
       "       0.48954273, 0.43681477, 0.26060774, 0.48099983, 0.50138577,\n",
       "       0.30572285, 0.48328868, 0.50959141, 0.37166206, 0.28546429,\n",
       "       0.53391753, 0.40798669, 0.50626005, 0.33566918, 0.42844197,\n",
       "       0.20874543, 0.45565904, 0.40994948, 0.43324075, 0.48689675,\n",
       "       0.45866888, 0.35231298, 0.34298401, 0.54792361, 0.38700519,\n",
       "       0.27280428, 0.18686258, 0.36251782, 0.36348362, 0.48602915,\n",
       "       0.42887169, 0.50591335, 0.63691102, 0.41643063, 0.43486197,\n",
       "       0.22850998, 0.19159809, 0.56639039, 0.38549212, 0.40409749,\n",
       "       0.23065853, 0.31747764, 0.40538821, 0.30279432, 0.62781789,\n",
       "       0.29837592, 0.49577045, 0.41013184, 0.61407731, 0.31627375,\n",
       "       0.16249781, 0.50575272, 0.51021909, 0.56685468, 0.50270685,\n",
       "       0.55415163, 0.43802096, 0.63577376, 0.47332531, 0.47968529,\n",
       "       0.26019211, 0.31503168, 0.37329887, 0.51541623, 0.53983581,\n",
       "       0.37887473, 0.31942326, 0.49346215, 0.33723229, 0.51804857,\n",
       "       0.45300207, 0.37709661, 0.30992311, 0.5169858 , 0.42999317,\n",
       "       0.45934143, 0.51214303, 0.48353806, 0.39426764, 0.31876423,\n",
       "       0.48197298, 0.27344064, 0.34971126, 0.22526347, 0.11341098,\n",
       "       0.1440894 , 0.22095344, 0.41381211, 0.40285295, 0.45868863,\n",
       "       0.50730126, 0.46526638, 0.32201937, 0.28830926, 0.320363  ,\n",
       "       0.47690001, 0.48877019, 0.42369136, 0.47412424, 0.42964868,\n",
       "       0.7733771 , 0.26068173, 0.43333103, 0.31543787, 0.60777305,\n",
       "       0.37235523, 0.42342182, 0.22553054, 0.48610694, 0.28181371,\n",
       "       0.29578098, 0.42527016, 0.44260872, 0.25304365, 0.44732754,\n",
       "       0.3362529 , 0.65444148, 0.51129424, 0.43084604, 0.3802279 ,\n",
       "       0.46645395, 0.42365391, 0.27961854, 0.47665958, 0.35895238,\n",
       "       0.41620942, 0.47242061, 0.41420334, 0.33179522, 0.31157597,\n",
       "       0.4697791 , 0.42676899, 0.28796488, 0.48778296, 0.29550862,\n",
       "       0.66372938, 0.41172226, 0.28604481, 0.42023392, 0.46297633,\n",
       "       0.2881254 , 0.51877919, 0.52750715, 0.42317531, 0.59303238,\n",
       "       0.42131378, 0.38744766, 0.26522836, 0.31340777, 0.26950409,\n",
       "       0.26604454, 0.48772015, 0.41596593, 0.46389558, 0.34381273,\n",
       "       0.44617461, 0.49967237, 0.51624587, 0.60036698, 0.32651156,\n",
       "       0.51814185, 0.47647625, 0.36262306, 0.40196795, 0.38458318,\n",
       "       0.44775782, 0.34425407, 0.38341228, 0.34136961, 0.44604131,\n",
       "       0.49757595, 0.42538175, 0.32145344, 0.48617885, 0.38983326,\n",
       "       0.29252039, 0.25745346, 0.47388135, 0.31584467, 0.64197548,\n",
       "       0.48763891, 0.26273283, 0.20399509, 0.30605501, 0.51008005,\n",
       "       0.3909895 , 0.31420936, 0.28950719, 0.32371089, 0.4003621 ,\n",
       "       0.43831858, 0.58306101, 0.44852073, 0.52832803, 0.58115825,\n",
       "       0.44619815, 0.39460246, 0.47123663, 0.59342688, 0.45887394,\n",
       "       0.16403418, 0.37081315, 0.49783599, 0.57368003, 0.32141862,\n",
       "       0.27621458, 0.48467475, 0.32303308, 0.44489398, 0.39004974,\n",
       "       0.49658652, 0.47819536, 0.33299189, 0.62499987, 0.47274389,\n",
       "       0.46625822, 0.38723822, 0.4795401 , 0.26835015, 0.35841531,\n",
       "       0.75364461, 0.51092963, 0.40948325, 0.37924091, 0.50941544,\n",
       "       0.46551976, 0.45814777, 0.36645668, 0.35106355, 0.29549075,\n",
       "       0.35011113, 0.39493685, 0.43351838, 0.26135154, 0.45943611,\n",
       "       0.63113643, 0.51997608, 0.40315862, 0.24899505, 0.62827695,\n",
       "       0.49469189, 0.40891812, 0.4731996 , 0.59928921, 0.51975595,\n",
       "       0.27151372, 0.31935531, 0.3196737 , 0.27268342, 0.2890496 ,\n",
       "       0.46230848, 0.49457093, 0.24573986, 0.37164061, 0.28265923,\n",
       "       0.41407311, 0.55626181, 0.43722701, 0.50672184, 0.36878651,\n",
       "       0.42606115, 0.37712112, 0.40427586, 0.52909352, 0.41436807,\n",
       "       0.10660587, 0.43450927, 0.58207625, 0.56489715, 0.45968663,\n",
       "       0.5040127 , 0.3092541 , 0.49900442, 0.39684105, 0.48697703,\n",
       "       0.48133687, 0.36599613, 0.42688964, 0.43138757, 0.41998086,\n",
       "       0.45369388, 0.50489879, 0.48750982, 0.33533508, 0.30305649,\n",
       "       0.57449997, 0.36282463, 0.44256254, 0.55493404, 0.28223415,\n",
       "       0.61891234, 0.3074389 , 0.36553434, 0.44588901, 0.31694202,\n",
       "       0.40163049, 0.45998298, 0.56713498, 0.51645186, 0.00648573,\n",
       "       0.34236114, 0.35555635, 0.57028887, 0.53783302, 0.20706232,\n",
       "       0.46885856, 0.48635373, 0.45476012, 0.48959765, 0.50145201,\n",
       "       0.13700135, 0.4682469 , 0.44361676, 0.2509905 , 0.43924868,\n",
       "       0.2584643 , 0.50249681, 0.76612504, 0.38836343, 0.45986747,\n",
       "       0.38174009, 0.3375434 , 0.51953575, 0.40004125, 0.26478016,\n",
       "       0.2480056 , 0.51460765, 0.32153438, 0.19277098, 0.46604522,\n",
       "       0.39912585, 0.32458254, 0.46141103, 0.57735431, 0.45903708,\n",
       "       0.36840373, 0.38309317, 0.22252779, 0.33806978, 0.31771507])"
      ]
     },
     "execution_count": 1175,
     "metadata": {},
     "output_type": "execute_result"
    }
   ],
   "source": [
    "y_pred_soft[:,1]"
   ]
  },
  {
   "cell_type": "code",
   "execution_count": 1176,
   "id": "2709a705",
   "metadata": {},
   "outputs": [
    {
     "data": {
      "text/html": [
       "<div>\n",
       "<style scoped>\n",
       "    .dataframe tbody tr th:only-of-type {\n",
       "        vertical-align: middle;\n",
       "    }\n",
       "\n",
       "    .dataframe tbody tr th {\n",
       "        vertical-align: top;\n",
       "    }\n",
       "\n",
       "    .dataframe thead th {\n",
       "        text-align: right;\n",
       "    }\n",
       "</style>\n",
       "<table border=\"1\" class=\"dataframe\">\n",
       "  <thead>\n",
       "    <tr style=\"text-align: right;\">\n",
       "      <th></th>\n",
       "      <th>Actual</th>\n",
       "      <th>Predicted</th>\n",
       "      <th>Soft Pred</th>\n",
       "    </tr>\n",
       "  </thead>\n",
       "  <tbody>\n",
       "    <tr>\n",
       "      <th>1812</th>\n",
       "      <td>0</td>\n",
       "      <td>0</td>\n",
       "      <td>0.067657</td>\n",
       "    </tr>\n",
       "    <tr>\n",
       "      <th>2560</th>\n",
       "      <td>0</td>\n",
       "      <td>0</td>\n",
       "      <td>0.220551</td>\n",
       "    </tr>\n",
       "    <tr>\n",
       "      <th>960</th>\n",
       "      <td>0</td>\n",
       "      <td>0</td>\n",
       "      <td>0.455509</td>\n",
       "    </tr>\n",
       "    <tr>\n",
       "      <th>3084</th>\n",
       "      <td>1</td>\n",
       "      <td>0</td>\n",
       "      <td>0.469074</td>\n",
       "    </tr>\n",
       "    <tr>\n",
       "      <th>2809</th>\n",
       "      <td>0</td>\n",
       "      <td>0</td>\n",
       "      <td>0.286948</td>\n",
       "    </tr>\n",
       "    <tr>\n",
       "      <th>1825</th>\n",
       "      <td>1</td>\n",
       "      <td>0</td>\n",
       "      <td>0.439172</td>\n",
       "    </tr>\n",
       "    <tr>\n",
       "      <th>1583</th>\n",
       "      <td>0</td>\n",
       "      <td>0</td>\n",
       "      <td>0.456818</td>\n",
       "    </tr>\n",
       "    <tr>\n",
       "      <th>3336</th>\n",
       "      <td>0</td>\n",
       "      <td>0</td>\n",
       "      <td>0.350781</td>\n",
       "    </tr>\n",
       "    <tr>\n",
       "      <th>2930</th>\n",
       "      <td>1</td>\n",
       "      <td>0</td>\n",
       "      <td>0.426900</td>\n",
       "    </tr>\n",
       "    <tr>\n",
       "      <th>1689</th>\n",
       "      <td>1</td>\n",
       "      <td>0</td>\n",
       "      <td>0.479850</td>\n",
       "    </tr>\n",
       "    <tr>\n",
       "      <th>88</th>\n",
       "      <td>0</td>\n",
       "      <td>1</td>\n",
       "      <td>0.553951</td>\n",
       "    </tr>\n",
       "    <tr>\n",
       "      <th>2945</th>\n",
       "      <td>1</td>\n",
       "      <td>1</td>\n",
       "      <td>0.523705</td>\n",
       "    </tr>\n",
       "    <tr>\n",
       "      <th>2550</th>\n",
       "      <td>0</td>\n",
       "      <td>0</td>\n",
       "      <td>0.071267</td>\n",
       "    </tr>\n",
       "    <tr>\n",
       "      <th>3769</th>\n",
       "      <td>1</td>\n",
       "      <td>0</td>\n",
       "      <td>0.429628</td>\n",
       "    </tr>\n",
       "    <tr>\n",
       "      <th>948</th>\n",
       "      <td>0</td>\n",
       "      <td>0</td>\n",
       "      <td>0.311366</td>\n",
       "    </tr>\n",
       "  </tbody>\n",
       "</table>\n",
       "</div>"
      ],
      "text/plain": [
       "      Actual  Predicted  Soft Pred\n",
       "1812       0          0   0.067657\n",
       "2560       0          0   0.220551\n",
       "960        0          0   0.455509\n",
       "3084       1          0   0.469074\n",
       "2809       0          0   0.286948\n",
       "1825       1          0   0.439172\n",
       "1583       0          0   0.456818\n",
       "3336       0          0   0.350781\n",
       "2930       1          0   0.426900\n",
       "1689       1          0   0.479850\n",
       "88         0          1   0.553951\n",
       "2945       1          1   0.523705\n",
       "2550       0          0   0.071267\n",
       "3769       1          0   0.429628\n",
       "948        0          0   0.311366"
      ]
     },
     "execution_count": 1176,
     "metadata": {},
     "output_type": "execute_result"
    }
   ],
   "source": [
    "pd.DataFrame({\"Actual\":y_test,'Predicted':y_pred,'Soft Pred':y_pred_soft[:,1]}).head(15)"
   ]
  },
  {
   "cell_type": "markdown",
   "id": "2aa18d03",
   "metadata": {},
   "source": [
    "# Validation"
   ]
  },
  {
   "cell_type": "code",
   "execution_count": 1177,
   "id": "ab9a51d5",
   "metadata": {},
   "outputs": [],
   "source": [
    "from sklearn.metrics import accuracy_score, precision_score, recall_score,f1_score, confusion_matrix"
   ]
  },
  {
   "cell_type": "code",
   "execution_count": 1178,
   "id": "c46bf49d",
   "metadata": {},
   "outputs": [],
   "source": [
    "def validation(test, pred):\n",
    "    print('Confusion Matrix\\n',confusion_matrix(test,pred))\n",
    "    print('Accuracy: ',accuracy_score(test,pred))\n",
    "    print('Recall: ',recall_score(test,pred))\n",
    "    print('Precision: ',precision_score(test,pred))\n",
    "    print('F1 Score: ',f1_score(test, pred))"
   ]
  },
  {
   "cell_type": "code",
   "execution_count": 1179,
   "id": "aa970a91",
   "metadata": {},
   "outputs": [
    {
     "name": "stdout",
     "output_type": "stream",
     "text": [
      "Confusion Matrix\n",
      " [[212  28]\n",
      " [107  53]]\n",
      "Accuracy:  0.6625\n",
      "Recall:  0.33125\n",
      "Precision:  0.654320987654321\n",
      "F1 Score:  0.4398340248962655\n"
     ]
    }
   ],
   "source": [
    "validation(y_test,y_pred)"
   ]
  },
  {
   "cell_type": "code",
   "execution_count": 1180,
   "id": "5ab64df0",
   "metadata": {},
   "outputs": [
    {
     "data": {
      "text/plain": [
       "0.6625"
      ]
     },
     "execution_count": 1180,
     "metadata": {},
     "output_type": "execute_result"
    }
   ],
   "source": [
    "model_lr.score(x_test,y_test)"
   ]
  },
  {
   "cell_type": "markdown",
   "id": "881b762d",
   "metadata": {},
   "source": [
    "# ROC Curve"
   ]
  },
  {
   "cell_type": "code",
   "execution_count": 1181,
   "id": "1fbab9f4",
   "metadata": {},
   "outputs": [],
   "source": [
    "from sklearn.metrics import roc_auc_score, roc_curve"
   ]
  },
  {
   "cell_type": "code",
   "execution_count": 1182,
   "id": "5a0d7b5e",
   "metadata": {},
   "outputs": [],
   "source": [
    "auc = roc_auc_score(y_test, y_pred)"
   ]
  },
  {
   "cell_type": "code",
   "execution_count": 1183,
   "id": "b4407cd0",
   "metadata": {},
   "outputs": [
    {
     "data": {
      "text/plain": [
       "0.6072916666666667"
      ]
     },
     "execution_count": 1183,
     "metadata": {},
     "output_type": "execute_result"
    }
   ],
   "source": [
    "auc"
   ]
  },
  {
   "cell_type": "code",
   "execution_count": 1184,
   "id": "e3e46774",
   "metadata": {},
   "outputs": [],
   "source": [
    "fpr,tpr,threshold= roc_curve(y_test,y_pred_soft[:,1])"
   ]
  },
  {
   "cell_type": "code",
   "execution_count": 1185,
   "id": "dbe4cdff",
   "metadata": {},
   "outputs": [
    {
     "data": {
      "text/html": [
       "<div>\n",
       "<style scoped>\n",
       "    .dataframe tbody tr th:only-of-type {\n",
       "        vertical-align: middle;\n",
       "    }\n",
       "\n",
       "    .dataframe tbody tr th {\n",
       "        vertical-align: top;\n",
       "    }\n",
       "\n",
       "    .dataframe thead th {\n",
       "        text-align: right;\n",
       "    }\n",
       "</style>\n",
       "<table border=\"1\" class=\"dataframe\">\n",
       "  <thead>\n",
       "    <tr style=\"text-align: right;\">\n",
       "      <th></th>\n",
       "      <th>FPR</th>\n",
       "      <th>TPR</th>\n",
       "      <th>Threshold</th>\n",
       "    </tr>\n",
       "  </thead>\n",
       "  <tbody>\n",
       "    <tr>\n",
       "      <th>0</th>\n",
       "      <td>0.000000</td>\n",
       "      <td>0.00000</td>\n",
       "      <td>1.782004</td>\n",
       "    </tr>\n",
       "    <tr>\n",
       "      <th>1</th>\n",
       "      <td>0.000000</td>\n",
       "      <td>0.00625</td>\n",
       "      <td>0.782004</td>\n",
       "    </tr>\n",
       "    <tr>\n",
       "      <th>2</th>\n",
       "      <td>0.000000</td>\n",
       "      <td>0.03125</td>\n",
       "      <td>0.663729</td>\n",
       "    </tr>\n",
       "    <tr>\n",
       "      <th>3</th>\n",
       "      <td>0.004167</td>\n",
       "      <td>0.03125</td>\n",
       "      <td>0.654441</td>\n",
       "    </tr>\n",
       "    <tr>\n",
       "      <th>4</th>\n",
       "      <td>0.004167</td>\n",
       "      <td>0.04375</td>\n",
       "      <td>0.636911</td>\n",
       "    </tr>\n",
       "    <tr>\n",
       "      <th>...</th>\n",
       "      <td>...</td>\n",
       "      <td>...</td>\n",
       "      <td>...</td>\n",
       "    </tr>\n",
       "    <tr>\n",
       "      <th>167</th>\n",
       "      <td>0.891667</td>\n",
       "      <td>0.98750</td>\n",
       "      <td>0.253044</td>\n",
       "    </tr>\n",
       "    <tr>\n",
       "      <th>168</th>\n",
       "      <td>0.891667</td>\n",
       "      <td>0.99375</td>\n",
       "      <td>0.250991</td>\n",
       "    </tr>\n",
       "    <tr>\n",
       "      <th>169</th>\n",
       "      <td>0.987500</td>\n",
       "      <td>0.99375</td>\n",
       "      <td>0.106606</td>\n",
       "    </tr>\n",
       "    <tr>\n",
       "      <th>170</th>\n",
       "      <td>0.987500</td>\n",
       "      <td>1.00000</td>\n",
       "      <td>0.071711</td>\n",
       "    </tr>\n",
       "    <tr>\n",
       "      <th>171</th>\n",
       "      <td>1.000000</td>\n",
       "      <td>1.00000</td>\n",
       "      <td>0.006486</td>\n",
       "    </tr>\n",
       "  </tbody>\n",
       "</table>\n",
       "<p>172 rows × 3 columns</p>\n",
       "</div>"
      ],
      "text/plain": [
       "          FPR      TPR  Threshold\n",
       "0    0.000000  0.00000   1.782004\n",
       "1    0.000000  0.00625   0.782004\n",
       "2    0.000000  0.03125   0.663729\n",
       "3    0.004167  0.03125   0.654441\n",
       "4    0.004167  0.04375   0.636911\n",
       "..        ...      ...        ...\n",
       "167  0.891667  0.98750   0.253044\n",
       "168  0.891667  0.99375   0.250991\n",
       "169  0.987500  0.99375   0.106606\n",
       "170  0.987500  1.00000   0.071711\n",
       "171  1.000000  1.00000   0.006486\n",
       "\n",
       "[172 rows x 3 columns]"
      ]
     },
     "execution_count": 1185,
     "metadata": {},
     "output_type": "execute_result"
    }
   ],
   "source": [
    "pd.DataFrame({'FPR':fpr,'TPR':tpr,'Threshold':threshold})"
   ]
  },
  {
   "cell_type": "code",
   "execution_count": 1186,
   "id": "7dbe5ea0",
   "metadata": {},
   "outputs": [
    {
     "data": {
      "image/png": "[encoded data removed]",
      "text/plain": [
       "<Figure size 432x288 with 1 Axes>"
      ]
     },
     "metadata": {
      "needs_background": "light"
     },
     "output_type": "display_data"
    },
    {
     "name": "stdout",
     "output_type": "stream",
     "text": [
      "Area under the curve:  0.6072916666666667\n"
     ]
    }
   ],
   "source": [
    "plt.plot(fpr,tpr)\n",
    "plt.title('ROC Curve')\n",
    "plt.xlabel('False Pos Rate')\n",
    "plt.ylabel('True Pos Rate')\n",
    "plt.show()\n",
    "print('Area under the curve: ',auc)"
   ]
  },
  {
   "cell_type": "code",
   "execution_count": 1187,
   "id": "e9353be0",
   "metadata": {},
   "outputs": [],
   "source": [
    "# Changing the threshold or classifier cutoff"
   ]
  },
  {
   "cell_type": "code",
   "execution_count": 1190,
   "id": "0a96a382",
   "metadata": {},
   "outputs": [],
   "source": [
    "thres = 0.50\n",
    "y_pred_50 = (y_pred_soft[:,1]>thres).astype(int)"
   ]
  },
  {
   "cell_type": "code",
   "execution_count": 1191,
   "id": "aa608f78",
   "metadata": {},
   "outputs": [
    {
     "data": {
      "text/plain": [
       "array([0, 0, 0, 0, 0, 0, 0, 0, 0, 0, 1, 1, 0, 0, 0, 0, 0, 0, 0, 0, 0, 1,\n",
       "       0, 0, 0, 0, 1, 1, 0, 1, 0, 0, 0, 0, 0, 0, 0, 0, 1, 1, 0, 0, 0, 0,\n",
       "       0, 1, 0, 1, 0, 0, 0, 0, 0, 1, 1, 0, 0, 0, 0, 0, 0, 0, 0, 0, 1, 0,\n",
       "       0, 1, 0, 0, 1, 0, 1, 0, 0, 0, 0, 0, 0, 0, 0, 0, 0, 1, 0, 0, 0, 0,\n",
       "       0, 0, 0, 1, 1, 0, 0, 0, 0, 1, 0, 0, 0, 0, 0, 0, 1, 0, 0, 0, 1, 0,\n",
       "       0, 1, 1, 1, 1, 1, 0, 1, 0, 0, 0, 0, 0, 1, 1, 0, 0, 0, 0, 1, 0, 0,\n",
       "       0, 1, 0, 0, 1, 0, 0, 0, 0, 0, 0, 0, 0, 0, 0, 0, 0, 0, 1, 0, 0, 0,\n",
       "       0, 0, 0, 0, 0, 0, 1, 0, 0, 0, 1, 0, 0, 0, 0, 0, 0, 0, 0, 0, 0, 0,\n",
       "       1, 1, 0, 0, 0, 0, 0, 0, 0, 0, 0, 0, 0, 0, 0, 0, 0, 0, 0, 1, 0, 0,\n",
       "       0, 0, 0, 1, 1, 0, 1, 0, 0, 0, 0, 0, 0, 0, 0, 0, 0, 0, 0, 1, 1, 0,\n",
       "       1, 0, 0, 0, 0, 0, 0, 0, 0, 0, 0, 0, 0, 0, 0, 0, 0, 0, 0, 1, 0, 0,\n",
       "       0, 0, 1, 0, 0, 0, 0, 0, 0, 1, 0, 1, 1, 0, 0, 0, 1, 0, 0, 0, 0, 1,\n",
       "       0, 0, 0, 0, 0, 0, 0, 0, 0, 1, 0, 0, 0, 0, 0, 0, 1, 1, 0, 0, 1, 0,\n",
       "       0, 0, 0, 0, 0, 0, 0, 0, 0, 1, 1, 0, 0, 1, 0, 0, 0, 1, 1, 0, 0, 0,\n",
       "       0, 0, 0, 0, 0, 0, 0, 0, 1, 0, 1, 0, 0, 0, 0, 1, 0, 0, 0, 1, 1, 0,\n",
       "       1, 0, 0, 0, 0, 0, 0, 0, 0, 0, 0, 1, 0, 0, 0, 1, 0, 0, 1, 0, 1, 0,\n",
       "       0, 0, 0, 0, 0, 1, 1, 0, 0, 0, 1, 1, 0, 0, 0, 0, 0, 1, 0, 0, 0, 0,\n",
       "       0, 0, 1, 1, 0, 0, 0, 0, 1, 0, 0, 0, 1, 0, 0, 0, 0, 0, 0, 1, 0, 0,\n",
       "       0, 0, 0, 0])"
      ]
     },
     "execution_count": 1191,
     "metadata": {},
     "output_type": "execute_result"
    }
   ],
   "source": [
    "y_pred_50"
   ]
  },
  {
   "cell_type": "code",
   "execution_count": 1192,
   "id": "bcdec7a6",
   "metadata": {},
   "outputs": [
    {
     "name": "stdout",
     "output_type": "stream",
     "text": [
      "Confusion Matrix\n",
      " [[212  28]\n",
      " [107  53]]\n",
      "Accuracy:  0.6625\n",
      "Recall:  0.33125\n",
      "Precision:  0.654320987654321\n",
      "F1 Score:  0.4398340248962655\n"
     ]
    }
   ],
   "source": [
    "validation(y_test,y_pred_50)"
   ]
  },
  {
   "cell_type": "code",
   "execution_count": null,
   "id": "f811c437",
   "metadata": {},
   "outputs": [],
   "source": []
  }
 ],
 "metadata": {
  "kernelspec": {
   "display_name": "Python 3 (ipykernel)",
   "language": "python",
   "name": "python3"
  },
  "language_info": {
   "codemirror_mode": {
    "name": "ipython",
    "version": 3
   },
   "file_extension": ".py",
   "mimetype": "text/x-python",
   "name": "python",
   "nbconvert_exporter": "python",
   "pygments_lexer": "ipython3",
   "version": "3.9.7"
  }
 },
 "nbformat": 4,
 "nbformat_minor": 5
}
